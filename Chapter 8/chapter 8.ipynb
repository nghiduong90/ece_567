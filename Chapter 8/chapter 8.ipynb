{
 "cells": [
  {
   "cell_type": "code",
   "execution_count": 1,
   "metadata": {},
   "outputs": [
    {
     "data": {
      "text/plain": [
       "array([ 1,  2,  5,  7,  3, 11, 14, 25])"
      ]
     },
     "execution_count": 1,
     "metadata": {},
     "output_type": "execute_result"
    }
   ],
   "source": [
    "# define an array and convert array to numpy array\n",
    "x=[1,2,5,7,3,11,14,25]\n",
    "import numpy as np\n",
    "np_arr=np.array(x)\n",
    "\n",
    "np_arr"
   ]
  },
  {
   "cell_type": "code",
   "execution_count": 3,
   "metadata": {},
   "outputs": [
    {
     "data": {
      "text/plain": [
       "numpy.ndarray"
      ]
     },
     "execution_count": 3,
     "metadata": {},
     "output_type": "execute_result"
    }
   ],
   "source": [
    "# define two dimensional array and convert to multi-dimensional\n",
    "# array in numpy\n",
    "arr=[[1,2],[13,4],[33,78]]\n",
    "np_2darr= np.array(arr)\n",
    "type(np_2darr)\n",
    "np.ndarray"
   ]
  },
  {
   "cell_type": "code",
   "execution_count": 4,
   "metadata": {},
   "outputs": [
    {
     "data": {
      "text/plain": [
       "array([[ 1,  2],\n",
       "       [13,  4],\n",
       "       [33, 78]])"
      ]
     },
     "execution_count": 4,
     "metadata": {},
     "output_type": "execute_result"
    }
   ],
   "source": [
    "np_2darr"
   ]
  },
  {
   "cell_type": "code",
   "execution_count": 5,
   "metadata": {},
   "outputs": [
    {
     "data": {
      "text/plain": [
       "[[1, 2], [13, 4], [33, 78]]"
      ]
     },
     "execution_count": 5,
     "metadata": {},
     "output_type": "execute_result"
    }
   ],
   "source": [
    "# indexing numpy array\n",
    "# convert numpy array to list\n",
    "np_2darr.tolist()"
   ]
  },
  {
   "cell_type": "code",
   "execution_count": 7,
   "metadata": {},
   "outputs": [
    {
     "data": {
      "text/plain": [
       "array([[ 1,  2],\n",
       "       [13,  4],\n",
       "       [33, 78]])"
      ]
     },
     "execution_count": 7,
     "metadata": {},
     "output_type": "execute_result"
    }
   ],
   "source": [
    "# get all emement in numpy array\n",
    "np_2darr[:]"
   ]
  },
  {
   "cell_type": "code",
   "execution_count": 8,
   "metadata": {},
   "outputs": [
    {
     "data": {
      "text/plain": [
       "array([[ 1,  2],\n",
       "       [13,  4]])"
      ]
     },
     "execution_count": 8,
     "metadata": {},
     "output_type": "execute_result"
    }
   ],
   "source": [
    "# get the first 2 rows in ndarray\n",
    "np_2darr[:2]"
   ]
  },
  {
   "cell_type": "code",
   "execution_count": 10,
   "metadata": {},
   "outputs": [
    {
     "data": {
      "text/plain": [
       "array([[1, 2]])"
      ]
     },
     "execution_count": 10,
     "metadata": {},
     "output_type": "execute_result"
    }
   ],
   "source": [
    "# get the first row\n",
    "np_2darr[:1]"
   ]
  },
  {
   "cell_type": "code",
   "execution_count": 11,
   "metadata": {},
   "outputs": [
    {
     "data": {
      "text/plain": [
       "array([33, 78])"
      ]
     },
     "execution_count": 11,
     "metadata": {},
     "output_type": "execute_result"
    }
   ],
   "source": [
    "# get the row of index = 2\n",
    "np_2darr[2]"
   ]
  },
  {
   "cell_type": "code",
   "execution_count": 12,
   "metadata": {},
   "outputs": [
    {
     "data": {
      "text/plain": [
       "33"
      ]
     },
     "execution_count": 12,
     "metadata": {},
     "output_type": "execute_result"
    }
   ],
   "source": [
    "# access element at row index = 2, column index = 0\n",
    "np_2darr[2][0]"
   ]
  },
  {
   "cell_type": "code",
   "execution_count": 13,
   "metadata": {},
   "outputs": [
    {
     "data": {
      "text/plain": [
       "array([[ 1,  2],\n",
       "       [13,  4]])"
      ]
     },
     "execution_count": 13,
     "metadata": {},
     "output_type": "execute_result"
    }
   ],
   "source": [
    "np_2darr[:-1]"
   ]
  },
  {
   "cell_type": "code",
   "execution_count": 15,
   "metadata": {},
   "outputs": [
    {
     "data": {
      "text/plain": [
       "array([0. , 0.1, 0.2, 0.3, 0.4, 0.5, 0.6, 0.7, 0.8, 0.9])"
      ]
     },
     "execution_count": 15,
     "metadata": {},
     "output_type": "execute_result"
    }
   ],
   "source": [
    "# basic operations\n",
    "import numpy as np\n",
    "\n",
    "# create array from 0.0 to 1.0 with step = 0.1\n",
    "np.arange(0.0, 1.0, 0.1)"
   ]
  },
  {
   "cell_type": "code",
   "execution_count": 17,
   "metadata": {},
   "outputs": [
    {
     "data": {
      "text/plain": [
       "array([[1., 1., 1., 1.],\n",
       "       [1., 1., 1., 1.]])"
      ]
     },
     "execution_count": 17,
     "metadata": {},
     "output_type": "execute_result"
    }
   ],
   "source": [
    "# ndarray with 2 rows, 4 columns with all element = 1\n",
    "np.ones([2, 4])"
   ]
  },
  {
   "cell_type": "code",
   "execution_count": 18,
   "metadata": {},
   "outputs": [
    {
     "data": {
      "text/plain": [
       "array([[0., 0., 0., 0.],\n",
       "       [0., 0., 0., 0.],\n",
       "       [0., 0., 0., 0.]])"
      ]
     },
     "execution_count": 18,
     "metadata": {},
     "output_type": "execute_result"
    }
   ],
   "source": [
    "# ndarray with 3 rows, 4 columns of all 0\n",
    "np.zeros([3,4])"
   ]
  },
  {
   "cell_type": "code",
   "execution_count": 19,
   "metadata": {},
   "outputs": [
    {
     "data": {
      "text/plain": [
       "array([0.        , 0.22222222, 0.44444444, 0.66666667, 0.88888889,\n",
       "       1.11111111, 1.33333333, 1.55555556, 1.77777778, 2.        ])"
      ]
     },
     "execution_count": 19,
     "metadata": {},
     "output_type": "execute_result"
    }
   ],
   "source": [
    "# define linear space\n",
    "np.linspace(0, 2, 10)"
   ]
  },
  {
   "cell_type": "code",
   "execution_count": 20,
   "metadata": {},
   "outputs": [
    {
     "data": {
      "text/plain": [
       "array([ 1.        ,  1.04811313,  1.09854114,  1.1513954 ,  1.20679264,\n",
       "        1.26485522,  1.32571137,  1.38949549,  1.45634848,  1.52641797,\n",
       "        1.59985872,  1.67683294,  1.75751062,  1.84206997,  1.93069773,\n",
       "        2.02358965,  2.12095089,  2.22299648,  2.32995181,  2.44205309,\n",
       "        2.55954792,  2.6826958 ,  2.8117687 ,  2.9470517 ,  3.0888436 ,\n",
       "        3.23745754,  3.39322177,  3.55648031,  3.72759372,  3.90693994,\n",
       "        4.09491506,  4.29193426,  4.49843267,  4.71486636,  4.94171336,\n",
       "        5.17947468,  5.42867544,  5.68986603,  5.96362332,  6.25055193,\n",
       "        6.55128557,  6.86648845,  7.19685673,  7.54312006,  7.90604321,\n",
       "        8.28642773,  8.68511374,  9.10298178,  9.54095476, 10.        ])"
      ]
     },
     "execution_count": 20,
     "metadata": {},
     "output_type": "execute_result"
    }
   ],
   "source": [
    "# dfine log space\n",
    "np.logspace(0,1)"
   ]
  },
  {
   "cell_type": "code",
   "execution_count": 22,
   "metadata": {},
   "outputs": [
    {
     "data": {
      "text/plain": [
       "array([[0, 0, 0],\n",
       "       [0, 1, 2],\n",
       "       [0, 2, 4],\n",
       "       [0, 3, 6]])"
      ]
     },
     "execution_count": 22,
     "metadata": {},
     "output_type": "execute_result"
    }
   ],
   "source": [
    "# define ndaray, or matrix with inital value\n",
    "A=np.array([[0, 0, 0], [0, 1, 2], [0, 2, 4], [0, 3, 6]])\n",
    "A"
   ]
  },
  {
   "cell_type": "code",
   "execution_count": 32,
   "metadata": {},
   "outputs": [
    {
     "data": {
      "text/plain": [
       "array([[ 1,  4],\n",
       "       [ 9, 16]])"
      ]
     },
     "execution_count": 32,
     "metadata": {},
     "output_type": "execute_result"
    }
   ],
   "source": [
    "# complex matrix operations \n",
    "A = np.array([[1,2],[3,4]])\n",
    "A * A"
   ]
  },
  {
   "cell_type": "code",
   "execution_count": 33,
   "metadata": {},
   "outputs": [
    {
     "data": {
      "text/plain": [
       "array([[ 7, 10],\n",
       "       [15, 22]])"
      ]
     },
     "execution_count": 33,
     "metadata": {},
     "output_type": "execute_result"
    }
   ],
   "source": [
    "# dot product\n",
    "np.dot(A, A)"
   ]
  },
  {
   "cell_type": "code",
   "execution_count": 34,
   "metadata": {},
   "outputs": [
    {
     "data": {
      "text/plain": [
       "array([[0, 0],\n",
       "       [0, 0]])"
      ]
     },
     "execution_count": 34,
     "metadata": {},
     "output_type": "execute_result"
    }
   ],
   "source": [
    "A - A"
   ]
  },
  {
   "cell_type": "code",
   "execution_count": 35,
   "metadata": {},
   "outputs": [
    {
     "data": {
      "text/plain": [
       "array([[2, 4],\n",
       "       [6, 8]])"
      ]
     },
     "execution_count": 35,
     "metadata": {},
     "output_type": "execute_result"
    }
   ],
   "source": [
    "A + A"
   ]
  },
  {
   "cell_type": "code",
   "execution_count": 36,
   "metadata": {},
   "outputs": [
    {
     "data": {
      "text/plain": [
       "array([[1, 3],\n",
       "       [2, 4]])"
      ]
     },
     "execution_count": 36,
     "metadata": {},
     "output_type": "execute_result"
    }
   ],
   "source": [
    "np.transpose(A)"
   ]
  },
  {
   "cell_type": "code",
   "execution_count": 37,
   "metadata": {},
   "outputs": [
    {
     "data": {
      "text/plain": [
       "array([[1, 3],\n",
       "       [2, 4]])"
      ]
     },
     "execution_count": 37,
     "metadata": {},
     "output_type": "execute_result"
    }
   ],
   "source": [
    "A.T"
   ]
  },
  {
   "cell_type": "code",
   "execution_count": 38,
   "metadata": {},
   "outputs": [],
   "source": [
    "M = np.matrix(A)"
   ]
  },
  {
   "cell_type": "code",
   "execution_count": 39,
   "metadata": {},
   "outputs": [
    {
     "data": {
      "text/plain": [
       "matrix([[1, 2],\n",
       "        [3, 4]])"
      ]
     },
     "execution_count": 39,
     "metadata": {},
     "output_type": "execute_result"
    }
   ],
   "source": [
    "M"
   ]
  },
  {
   "cell_type": "code",
   "execution_count": 40,
   "metadata": {},
   "outputs": [
    {
     "data": {
      "text/plain": [
       "matrix([[1, 2],\n",
       "        [3, 4]])"
      ]
     },
     "execution_count": 40,
     "metadata": {},
     "output_type": "execute_result"
    }
   ],
   "source": [
    "np.conjugate(M)"
   ]
  },
  {
   "cell_type": "code",
   "execution_count": 41,
   "metadata": {},
   "outputs": [
    {
     "data": {
      "text/plain": [
       "matrix([[-2, -3],\n",
       "        [-4, -5]])"
      ]
     },
     "execution_count": 41,
     "metadata": {},
     "output_type": "execute_result"
    }
   ],
   "source": [
    "np.invert(M)"
   ]
  },
  {
   "cell_type": "code",
   "execution_count": 43,
   "metadata": {},
   "outputs": [
    {
     "data": {
      "text/plain": [
       "array([[-0.54026784,  0.19504514,  1.61970387, -0.73084382, -0.93455978,\n",
       "         1.13565657,  0.82656452, -0.20055723, -0.67577894, -0.54529578]])"
      ]
     },
     "execution_count": 43,
     "metadata": {},
     "output_type": "execute_result"
    }
   ],
   "source": [
    "N = np.random.randn(1,10)\n",
    "N"
   ]
  },
  {
   "cell_type": "code",
   "execution_count": 44,
   "metadata": {},
   "outputs": [
    {
     "data": {
      "text/plain": [
       "0.014966670360740364"
      ]
     },
     "execution_count": 44,
     "metadata": {},
     "output_type": "execute_result"
    }
   ],
   "source": [
    "N.mean()"
   ]
  },
  {
   "cell_type": "code",
   "execution_count": 45,
   "metadata": {},
   "outputs": [
    {
     "data": {
      "text/plain": [
       "0.8441468986589612"
      ]
     },
     "execution_count": 45,
     "metadata": {},
     "output_type": "execute_result"
    }
   ],
   "source": [
    "N.std()"
   ]
  },
  {
   "cell_type": "code",
   "execution_count": 63,
   "metadata": {},
   "outputs": [
    {
     "data": {
      "text/plain": [
       "array([[1, 2, 3, 4]])"
      ]
     },
     "execution_count": 63,
     "metadata": {},
     "output_type": "execute_result"
    }
   ],
   "source": [
    "r, c = A.shape\n",
    "C = A.reshape((1, r * c))\n",
    "C"
   ]
  },
  {
   "cell_type": "code",
   "execution_count": 51,
   "metadata": {},
   "outputs": [
    {
     "data": {
      "text/plain": [
       "array([1, 2, 3, 4])"
      ]
     },
     "execution_count": 51,
     "metadata": {},
     "output_type": "execute_result"
    }
   ],
   "source": [
    "B = A.flatten()\n",
    "B"
   ]
  },
  {
   "cell_type": "code",
   "execution_count": 53,
   "metadata": {},
   "outputs": [
    {
     "data": {
      "text/plain": [
       "array([1, 1, 2, 2, 3, 3, 4, 4])"
      ]
     },
     "execution_count": 53,
     "metadata": {},
     "output_type": "execute_result"
    }
   ],
   "source": [
    "D = np.repeat(A, 2)\n",
    "D"
   ]
  },
  {
   "cell_type": "code",
   "execution_count": 55,
   "metadata": {},
   "outputs": [
    {
     "data": {
      "text/plain": [
       "array([[1, 2, 3, 4, 1, 2, 3, 4, 1, 2, 3, 4, 1, 2, 3, 4]])"
      ]
     },
     "execution_count": 55,
     "metadata": {},
     "output_type": "execute_result"
    }
   ],
   "source": [
    "E = np.tile(A, 4)\n",
    "E"
   ]
  },
  {
   "cell_type": "code",
   "execution_count": 58,
   "metadata": {},
   "outputs": [
    {
     "data": {
      "text/plain": [
       "array([[1, 2, 3, 4],\n",
       "       [1, 2, 3, 4]])"
      ]
     },
     "execution_count": 58,
     "metadata": {},
     "output_type": "execute_result"
    }
   ],
   "source": [
    "F = np.concatenate((A, A), axis=0)\n",
    "F"
   ]
  },
  {
   "cell_type": "code",
   "execution_count": 59,
   "metadata": {},
   "outputs": [
    {
     "data": {
      "text/plain": [
       "array([[1, 2, 3, 4],\n",
       "       [1, 2, 3, 4]])"
      ]
     },
     "execution_count": 59,
     "metadata": {},
     "output_type": "execute_result"
    }
   ],
   "source": [
    "K = np.vstack((A, B))\n",
    "K"
   ]
  },
  {
   "cell_type": "code",
   "execution_count": 67,
   "metadata": {},
   "outputs": [
    {
     "data": {
      "text/plain": [
       "array([1, 2, 3, 4, 1, 2, 3, 4])"
      ]
     },
     "execution_count": 67,
     "metadata": {},
     "output_type": "execute_result"
    }
   ],
   "source": [
    "Q = np.concatenate((B, C[0]), axis = 0)\n",
    "Q"
   ]
  },
  {
   "cell_type": "code",
   "execution_count": 69,
   "metadata": {},
   "outputs": [
    {
     "data": {
      "text/plain": [
       "array([[1.11219142e-01, 2.39025522e-05, 2.52855482e-01, 8.18495193e-01,\n",
       "        9.77692443e-01],\n",
       "       [2.51534179e-01, 9.33287332e-01, 9.59840816e-01, 2.49374427e-01,\n",
       "        5.71465642e-01]])"
      ]
     },
     "execution_count": 69,
     "metadata": {},
     "output_type": "execute_result"
    }
   ],
   "source": [
    "from numpy import random\n",
    "A1 = random.rand(2, 5)\n",
    "A1"
   ]
  },
  {
   "cell_type": "code",
   "execution_count": 71,
   "metadata": {},
   "outputs": [
    {
     "data": {
      "text/plain": [
       "array([[-0.18721254,  0.86333573, -0.46717505, -0.44547208,  0.44860438],\n",
       "       [ 0.0922291 ,  0.57613398, -0.98428471,  0.40400974,  1.1312119 ]])"
      ]
     },
     "execution_count": 71,
     "metadata": {},
     "output_type": "execute_result"
    }
   ],
   "source": [
    "A2 = random.randn(2, 5)\n",
    "A2"
   ]
  },
  {
   "cell_type": "code",
   "execution_count": 72,
   "metadata": {},
   "outputs": [],
   "source": [
    "######################## SCIPY #####################"
   ]
  },
  {
   "cell_type": "code",
   "execution_count": 76,
   "metadata": {},
   "outputs": [],
   "source": [
    "import scipy as sp"
   ]
  },
  {
   "cell_type": "code",
   "execution_count": 74,
   "metadata": {},
   "outputs": [
    {
     "ename": "NameError",
     "evalue": "name 'stockdata_new' is not defined",
     "output_type": "error",
     "traceback": [
      "\u001b[0;31m---------------------------------------------------------------------------\u001b[0m",
      "\u001b[0;31mNameError\u001b[0m                                 Traceback (most recent call last)",
      "\u001b[0;32m<ipython-input-74-3b4442a66d74>\u001b[0m in \u001b[0;36m<module>\u001b[0;34m()\u001b[0m\n\u001b[0;32m----> 1\u001b[0;31m \u001b[0mstockCSCO\u001b[0m \u001b[0;34m=\u001b[0m \u001b[0mstockdata_new\u001b[0m\u001b[0;34m.\u001b[0m\u001b[0mquery\u001b[0m\u001b[0;34m(\u001b[0m\u001b[0;34m'stock==\"CSCO\"'\u001b[0m\u001b[0;34m)\u001b[0m\u001b[0;34m\u001b[0m\u001b[0m\n\u001b[0m",
      "\u001b[0;31mNameError\u001b[0m: name 'stockdata_new' is not defined"
     ]
    }
   ],
   "source": [
    "stockCSCO = stockdata_new.query('stock==\"CSCO\"')"
   ]
  },
  {
   "cell_type": "code",
   "execution_count": 77,
   "metadata": {},
   "outputs": [],
   "source": [
    "# do integration of a simple function\n",
    "from scipy.integrate import quad, dblquad, tplquad\n",
    "def f(x):\n",
    "    return x"
   ]
  },
  {
   "cell_type": "code",
   "execution_count": 79,
   "metadata": {},
   "outputs": [
    {
     "name": "stdout",
     "output_type": "stream",
     "text": [
      "0.5 5.551115123125783e-15\n"
     ]
    }
   ],
   "source": [
    "x_lower = 0 # the lower limit of x\n",
    "x_upper = 1 # the upper limit of x\n",
    "val, abserr = quad(f, x_lower, x_upper)\n",
    "print (val,abserr)"
   ]
  },
  {
   "cell_type": "code",
   "execution_count": 85,
   "metadata": {},
   "outputs": [
    {
     "name": "stdout",
     "output_type": "stream",
     "text": [
      "[[ 3.02650085  3.23172694]\n",
      " [-0.51075457  0.1050515 ]]\n",
      "[[0.06389331 0.15100995]\n",
      " [0.13461284 0.39076898]]\n"
     ]
    }
   ],
   "source": [
    "# scipy for linear algebra\n",
    "A = sp.rand(2, 2)\n",
    "B = sp.rand(2, 2)\n",
    "from scipy import linalg as LA\n",
    "X = LA.solve(A, B)\n",
    "print(X)\n",
    "X1 = np.dot(A, B)\n",
    "print (X1)"
   ]
  },
  {
   "cell_type": "code",
   "execution_count": 86,
   "metadata": {},
   "outputs": [
    {
     "data": {
      "text/plain": [
       "array([0.07520488+0.j, 0.64553882+0.j])"
      ]
     },
     "execution_count": 86,
     "metadata": {},
     "output_type": "execute_result"
    }
   ],
   "source": [
    "# eigenvalue and eigenvector\n",
    "evals = LA.eigvals(A)\n",
    "evals"
   ]
  },
  {
   "cell_type": "code",
   "execution_count": 88,
   "metadata": {},
   "outputs": [
    {
     "data": {
      "text/plain": [
       "array([0.07520488+0.j, 0.64553882+0.j])"
      ]
     },
     "execution_count": 88,
     "metadata": {},
     "output_type": "execute_result"
    }
   ],
   "source": [
    "evals, evect = LA.eig(A)\n",
    "evals"
   ]
  },
  {
   "cell_type": "code",
   "execution_count": 89,
   "metadata": {},
   "outputs": [
    {
     "data": {
      "text/plain": [
       "array([[-0.96037883, -0.32206062],\n",
       "       [ 0.27869789, -0.94671905]])"
      ]
     },
     "execution_count": 89,
     "metadata": {},
     "output_type": "execute_result"
    }
   ],
   "source": [
    "evect"
   ]
  },
  {
   "cell_type": "code",
   "execution_count": 90,
   "metadata": {},
   "outputs": [
    {
     "data": {
      "text/plain": [
       "array([[12.24145373, -3.63739184],\n",
       "       [-3.10287786,  2.6046493 ]])"
      ]
     },
     "execution_count": 90,
     "metadata": {},
     "output_type": "execute_result"
    }
   ],
   "source": [
    "LA.inv(A)"
   ]
  },
  {
   "cell_type": "code",
   "execution_count": 91,
   "metadata": {},
   "outputs": [
    {
     "data": {
      "text/plain": [
       "0.04854766907908455"
      ]
     },
     "execution_count": 91,
     "metadata": {},
     "output_type": "execute_result"
    }
   ],
   "source": [
    "LA.det(A)"
   ]
  },
  {
   "cell_type": "code",
   "execution_count": 94,
   "metadata": {},
   "outputs": [
    {
     "data": {
      "text/plain": [
       "array([[1, 0, 0],\n",
       "       [0, 2, 0],\n",
       "       [0, 0, 3]])"
      ]
     },
     "execution_count": 94,
     "metadata": {},
     "output_type": "execute_result"
    }
   ],
   "source": [
    "# sparse matrix\n",
    "from scipy import sparse as s\n",
    "A = np.array([[1,0,0],[0,2,0],[0,0,3]])\n",
    "A"
   ]
  },
  {
   "cell_type": "code",
   "execution_count": 96,
   "metadata": {},
   "outputs": [
    {
     "data": {
      "text/plain": [
       "<3x3 sparse matrix of type '<class 'numpy.int64'>'\n",
       "\twith 3 stored elements in Compressed Sparse Row format>"
      ]
     },
     "execution_count": 96,
     "metadata": {},
     "output_type": "execute_result"
    }
   ],
   "source": [
    "from scipy import sparse as sp\n",
    "C = sp.csr_matrix(A)\n",
    "C"
   ]
  },
  {
   "cell_type": "code",
   "execution_count": 97,
   "metadata": {},
   "outputs": [
    {
     "data": {
      "text/plain": [
       "array([[1, 0, 0],\n",
       "       [0, 2, 0],\n",
       "       [0, 0, 3]], dtype=int64)"
      ]
     },
     "execution_count": 97,
     "metadata": {},
     "output_type": "execute_result"
    }
   ],
   "source": [
    "C.toarray()"
   ]
  },
  {
   "cell_type": "code",
   "execution_count": 98,
   "metadata": {},
   "outputs": [
    {
     "data": {
      "text/plain": [
       "matrix([[1, 0, 0],\n",
       "        [0, 4, 0],\n",
       "        [0, 0, 9]], dtype=int64)"
      ]
     },
     "execution_count": 98,
     "metadata": {},
     "output_type": "execute_result"
    }
   ],
   "source": [
    "C * C.todense()"
   ]
  },
  {
   "cell_type": "code",
   "execution_count": 101,
   "metadata": {},
   "outputs": [
    {
     "data": {
      "text/plain": [
       "matrix([[1, 0, 0],\n",
       "        [0, 4, 0],\n",
       "        [0, 0, 9]], dtype=int64)"
      ]
     },
     "execution_count": 101,
     "metadata": {},
     "output_type": "execute_result"
    }
   ],
   "source": [
    "d = np.dot(C, C).todense()\n",
    "d"
   ]
  },
  {
   "cell_type": "code",
   "execution_count": 104,
   "metadata": {},
   "outputs": [],
   "source": [
    "#### Optimization\n",
    "from scipy import optimize\n",
    "\n",
    "def f(x):\n",
    "    return x ** 2 - 4"
   ]
  },
  {
   "cell_type": "code",
   "execution_count": 110,
   "metadata": {},
   "outputs": [
    {
     "name": "stdout",
     "output_type": "stream",
     "text": [
      "Optimization terminated successfully.\n",
      "         Current function value: -357913941.000000\n",
      "         Iterations: 1\n",
      "         Function evaluations: 48\n",
      "         Gradient evaluations: 16\n"
     ]
    },
    {
     "data": {
      "text/plain": [
       "array([-3.57913941e+08])"
      ]
     },
     "execution_count": 110,
     "metadata": {},
     "output_type": "execute_result"
    }
   ],
   "source": [
    "optimize.fmin_bfgs(f, 0)"
   ]
  },
  {
   "cell_type": "code",
   "execution_count": 111,
   "metadata": {},
   "outputs": [
    {
     "name": "stdout",
     "output_type": "stream",
     "text": [
      "Help on function fmin_bfgs in module scipy.optimize.optimize:\n",
      "\n",
      "fmin_bfgs(f, x0, fprime=None, args=(), gtol=1e-05, norm=inf, epsilon=1.4901161193847656e-08, maxiter=None, full_output=0, disp=1, retall=0, callback=None)\n",
      "    Minimize a function using the BFGS algorithm.\n",
      "    \n",
      "    Parameters\n",
      "    ----------\n",
      "    f : callable f(x,*args)\n",
      "        Objective function to be minimized.\n",
      "    x0 : ndarray\n",
      "        Initial guess.\n",
      "    fprime : callable f'(x,*args), optional\n",
      "        Gradient of f.\n",
      "    args : tuple, optional\n",
      "        Extra arguments passed to f and fprime.\n",
      "    gtol : float, optional\n",
      "        Gradient norm must be less than gtol before successful termination.\n",
      "    norm : float, optional\n",
      "        Order of norm (Inf is max, -Inf is min)\n",
      "    epsilon : int or ndarray, optional\n",
      "        If fprime is approximated, use this value for the step size.\n",
      "    callback : callable, optional\n",
      "        An optional user-supplied function to call after each\n",
      "        iteration.  Called as callback(xk), where xk is the\n",
      "        current parameter vector.\n",
      "    maxiter : int, optional\n",
      "        Maximum number of iterations to perform.\n",
      "    full_output : bool, optional\n",
      "        If True,return fopt, func_calls, grad_calls, and warnflag\n",
      "        in addition to xopt.\n",
      "    disp : bool, optional\n",
      "        Print convergence message if True.\n",
      "    retall : bool, optional\n",
      "        Return a list of results at each iteration if True.\n",
      "    \n",
      "    Returns\n",
      "    -------\n",
      "    xopt : ndarray\n",
      "        Parameters which minimize f, i.e. f(xopt) == fopt.\n",
      "    fopt : float\n",
      "        Minimum value.\n",
      "    gopt : ndarray\n",
      "        Value of gradient at minimum, f'(xopt), which should be near 0.\n",
      "    Bopt : ndarray\n",
      "        Value of 1/f''(xopt), i.e. the inverse hessian matrix.\n",
      "    func_calls : int\n",
      "        Number of function_calls made.\n",
      "    grad_calls : int\n",
      "        Number of gradient calls made.\n",
      "    warnflag : integer\n",
      "        1 : Maximum number of iterations exceeded.\n",
      "        2 : Gradient and/or function calls not changing.\n",
      "    allvecs  :  list\n",
      "        `OptimizeResult` at each iteration.  Only returned if retall is True.\n",
      "    \n",
      "    See also\n",
      "    --------\n",
      "    minimize: Interface to minimization algorithms for multivariate\n",
      "        functions. See the 'BFGS' `method` in particular.\n",
      "    \n",
      "    Notes\n",
      "    -----\n",
      "    Optimize the function, f, whose gradient is given by fprime\n",
      "    using the quasi-Newton method of Broyden, Fletcher, Goldfarb,\n",
      "    and Shanno (BFGS)\n",
      "    \n",
      "    References\n",
      "    ----------\n",
      "    Wright, and Nocedal 'Numerical Optimization', 1999, pg. 198.\n",
      "\n"
     ]
    }
   ],
   "source": [
    "help(optimize.fmin_bfgs)"
   ]
  },
  {
   "cell_type": "code",
   "execution_count": 112,
   "metadata": {},
   "outputs": [
    {
     "name": "stderr",
     "output_type": "stream",
     "text": [
      "/home/nghi/anaconda3/envs/nlp/lib/python3.4/site-packages/scipy/optimize/minpack.py:161: RuntimeWarning: The iteration is not making good progress, as measured by the \n",
      "  improvement from the last ten iterations.\n",
      "  warnings.warn(msg, RuntimeWarning)\n"
     ]
    },
    {
     "data": {
      "text/plain": [
       "array([0.])"
      ]
     },
     "execution_count": 112,
     "metadata": {},
     "output_type": "execute_result"
    }
   ],
   "source": [
    "def f1(x,y):\n",
    "    return x ** 2+  y ** 2 - 4\n",
    "optimize.fsolve(f1, 0, 0)"
   ]
  },
  {
   "cell_type": "code",
   "execution_count": 116,
   "metadata": {},
   "outputs": [],
   "source": [
    "import pandas as pd"
   ]
  },
  {
   "cell_type": "code",
   "execution_count": 119,
   "metadata": {},
   "outputs": [],
   "source": [
    "data = pd.read_csv(\"iris.txt\",header=0)"
   ]
  },
  {
   "cell_type": "code",
   "execution_count": 120,
   "metadata": {},
   "outputs": [
    {
     "data": {
      "text/html": [
       "<div>\n",
       "<style scoped>\n",
       "    .dataframe tbody tr th:only-of-type {\n",
       "        vertical-align: middle;\n",
       "    }\n",
       "\n",
       "    .dataframe tbody tr th {\n",
       "        vertical-align: top;\n",
       "    }\n",
       "\n",
       "    .dataframe thead th {\n",
       "        text-align: right;\n",
       "    }\n",
       "</style>\n",
       "<table border=\"1\" class=\"dataframe\">\n",
       "  <thead>\n",
       "    <tr style=\"text-align: right;\">\n",
       "      <th></th>\n",
       "      <th>5.1</th>\n",
       "      <th>3.5</th>\n",
       "      <th>1.4</th>\n",
       "      <th>0.2</th>\n",
       "      <th>Iris-setosa</th>\n",
       "    </tr>\n",
       "  </thead>\n",
       "  <tbody>\n",
       "    <tr>\n",
       "      <th>0</th>\n",
       "      <td>4.9</td>\n",
       "      <td>3.0</td>\n",
       "      <td>1.4</td>\n",
       "      <td>0.2</td>\n",
       "      <td>Iris-setosa</td>\n",
       "    </tr>\n",
       "    <tr>\n",
       "      <th>1</th>\n",
       "      <td>4.7</td>\n",
       "      <td>3.2</td>\n",
       "      <td>1.3</td>\n",
       "      <td>0.2</td>\n",
       "      <td>Iris-setosa</td>\n",
       "    </tr>\n",
       "    <tr>\n",
       "      <th>2</th>\n",
       "      <td>4.6</td>\n",
       "      <td>3.1</td>\n",
       "      <td>1.5</td>\n",
       "      <td>0.2</td>\n",
       "      <td>Iris-setosa</td>\n",
       "    </tr>\n",
       "    <tr>\n",
       "      <th>3</th>\n",
       "      <td>5.0</td>\n",
       "      <td>3.6</td>\n",
       "      <td>1.4</td>\n",
       "      <td>0.2</td>\n",
       "      <td>Iris-setosa</td>\n",
       "    </tr>\n",
       "    <tr>\n",
       "      <th>4</th>\n",
       "      <td>5.4</td>\n",
       "      <td>3.9</td>\n",
       "      <td>1.7</td>\n",
       "      <td>0.4</td>\n",
       "      <td>Iris-setosa</td>\n",
       "    </tr>\n",
       "  </tbody>\n",
       "</table>\n",
       "</div>"
      ],
      "text/plain": [
       "   5.1  3.5  1.4  0.2  Iris-setosa\n",
       "0  4.9  3.0  1.4  0.2  Iris-setosa\n",
       "1  4.7  3.2  1.3  0.2  Iris-setosa\n",
       "2  4.6  3.1  1.5  0.2  Iris-setosa\n",
       "3  5.0  3.6  1.4  0.2  Iris-setosa\n",
       "4  5.4  3.9  1.7  0.4  Iris-setosa"
      ]
     },
     "execution_count": 120,
     "metadata": {},
     "output_type": "execute_result"
    }
   ],
   "source": [
    "data.head()"
   ]
  },
  {
   "cell_type": "code",
   "execution_count": 121,
   "metadata": {},
   "outputs": [
    {
     "data": {
      "text/html": [
       "<div>\n",
       "<style scoped>\n",
       "    .dataframe tbody tr th:only-of-type {\n",
       "        vertical-align: middle;\n",
       "    }\n",
       "\n",
       "    .dataframe tbody tr th {\n",
       "        vertical-align: top;\n",
       "    }\n",
       "\n",
       "    .dataframe thead th {\n",
       "        text-align: right;\n",
       "    }\n",
       "</style>\n",
       "<table border=\"1\" class=\"dataframe\">\n",
       "  <thead>\n",
       "    <tr style=\"text-align: right;\">\n",
       "      <th></th>\n",
       "      <th>sepal length</th>\n",
       "      <th>sepal width</th>\n",
       "      <th>petal length</th>\n",
       "      <th>petal width</th>\n",
       "      <th>Cat</th>\n",
       "    </tr>\n",
       "  </thead>\n",
       "  <tbody>\n",
       "    <tr>\n",
       "      <th>0</th>\n",
       "      <td>5.1</td>\n",
       "      <td>3.5</td>\n",
       "      <td>1.4</td>\n",
       "      <td>0.2</td>\n",
       "      <td>Iris-setosa</td>\n",
       "    </tr>\n",
       "    <tr>\n",
       "      <th>1</th>\n",
       "      <td>4.9</td>\n",
       "      <td>3.0</td>\n",
       "      <td>1.4</td>\n",
       "      <td>0.2</td>\n",
       "      <td>Iris-setosa</td>\n",
       "    </tr>\n",
       "    <tr>\n",
       "      <th>2</th>\n",
       "      <td>4.7</td>\n",
       "      <td>3.2</td>\n",
       "      <td>1.3</td>\n",
       "      <td>0.2</td>\n",
       "      <td>Iris-setosa</td>\n",
       "    </tr>\n",
       "    <tr>\n",
       "      <th>3</th>\n",
       "      <td>4.6</td>\n",
       "      <td>3.1</td>\n",
       "      <td>1.5</td>\n",
       "      <td>0.2</td>\n",
       "      <td>Iris-setosa</td>\n",
       "    </tr>\n",
       "    <tr>\n",
       "      <th>4</th>\n",
       "      <td>5.0</td>\n",
       "      <td>3.6</td>\n",
       "      <td>1.4</td>\n",
       "      <td>0.2</td>\n",
       "      <td>Iris-setosa</td>\n",
       "    </tr>\n",
       "  </tbody>\n",
       "</table>\n",
       "</div>"
      ],
      "text/plain": [
       "   sepal length  sepal width  petal length  petal width          Cat\n",
       "0           5.1          3.5           1.4          0.2  Iris-setosa\n",
       "1           4.9          3.0           1.4          0.2  Iris-setosa\n",
       "2           4.7          3.2           1.3          0.2  Iris-setosa\n",
       "3           4.6          3.1           1.5          0.2  Iris-setosa\n",
       "4           5.0          3.6           1.4          0.2  Iris-setosa"
      ]
     },
     "execution_count": 121,
     "metadata": {},
     "output_type": "execute_result"
    }
   ],
   "source": [
    "data = pd.read_csv(\"iris.txt\", names=[\"sepal length\", \n",
    "\"sepal width\", \"petal length\", \"petal width\", \"Cat\"], header=None)\n",
    "data.head()"
   ]
  },
  {
   "cell_type": "code",
   "execution_count": 122,
   "metadata": {},
   "outputs": [
    {
     "data": {
      "text/html": [
       "<div>\n",
       "<style scoped>\n",
       "    .dataframe tbody tr th:only-of-type {\n",
       "        vertical-align: middle;\n",
       "    }\n",
       "\n",
       "    .dataframe tbody tr th {\n",
       "        vertical-align: top;\n",
       "    }\n",
       "\n",
       "    .dataframe thead th {\n",
       "        text-align: right;\n",
       "    }\n",
       "</style>\n",
       "<table border=\"1\" class=\"dataframe\">\n",
       "  <thead>\n",
       "    <tr style=\"text-align: right;\">\n",
       "      <th></th>\n",
       "      <th>sepal length</th>\n",
       "      <th>sepal width</th>\n",
       "      <th>petal length</th>\n",
       "      <th>petal width</th>\n",
       "    </tr>\n",
       "  </thead>\n",
       "  <tbody>\n",
       "    <tr>\n",
       "      <th>count</th>\n",
       "      <td>150.000000</td>\n",
       "      <td>150.000000</td>\n",
       "      <td>150.000000</td>\n",
       "      <td>150.000000</td>\n",
       "    </tr>\n",
       "    <tr>\n",
       "      <th>mean</th>\n",
       "      <td>5.843333</td>\n",
       "      <td>3.054000</td>\n",
       "      <td>3.758667</td>\n",
       "      <td>1.198667</td>\n",
       "    </tr>\n",
       "    <tr>\n",
       "      <th>std</th>\n",
       "      <td>0.828066</td>\n",
       "      <td>0.433594</td>\n",
       "      <td>1.764420</td>\n",
       "      <td>0.763161</td>\n",
       "    </tr>\n",
       "    <tr>\n",
       "      <th>min</th>\n",
       "      <td>4.300000</td>\n",
       "      <td>2.000000</td>\n",
       "      <td>1.000000</td>\n",
       "      <td>0.100000</td>\n",
       "    </tr>\n",
       "    <tr>\n",
       "      <th>25%</th>\n",
       "      <td>5.100000</td>\n",
       "      <td>2.800000</td>\n",
       "      <td>1.600000</td>\n",
       "      <td>0.300000</td>\n",
       "    </tr>\n",
       "    <tr>\n",
       "      <th>50%</th>\n",
       "      <td>5.800000</td>\n",
       "      <td>3.000000</td>\n",
       "      <td>4.350000</td>\n",
       "      <td>1.300000</td>\n",
       "    </tr>\n",
       "    <tr>\n",
       "      <th>75%</th>\n",
       "      <td>6.400000</td>\n",
       "      <td>3.300000</td>\n",
       "      <td>5.100000</td>\n",
       "      <td>1.800000</td>\n",
       "    </tr>\n",
       "    <tr>\n",
       "      <th>max</th>\n",
       "      <td>7.900000</td>\n",
       "      <td>4.400000</td>\n",
       "      <td>6.900000</td>\n",
       "      <td>2.500000</td>\n",
       "    </tr>\n",
       "  </tbody>\n",
       "</table>\n",
       "</div>"
      ],
      "text/plain": [
       "       sepal length  sepal width  petal length  petal width\n",
       "count    150.000000   150.000000    150.000000   150.000000\n",
       "mean       5.843333     3.054000      3.758667     1.198667\n",
       "std        0.828066     0.433594      1.764420     0.763161\n",
       "min        4.300000     2.000000      1.000000     0.100000\n",
       "25%        5.100000     2.800000      1.600000     0.300000\n",
       "50%        5.800000     3.000000      4.350000     1.300000\n",
       "75%        6.400000     3.300000      5.100000     1.800000\n",
       "max        7.900000     4.400000      6.900000     2.500000"
      ]
     },
     "execution_count": 122,
     "metadata": {},
     "output_type": "execute_result"
    }
   ],
   "source": [
    "data.describe()"
   ]
  },
  {
   "cell_type": "code",
   "execution_count": 123,
   "metadata": {},
   "outputs": [
    {
     "data": {
      "text/plain": [
       "5.0    10\n",
       "6.3     9\n",
       "5.1     9\n",
       "6.7     8\n",
       "5.7     8\n",
       "5.5     7\n",
       "5.8     7\n",
       "6.4     7\n",
       "6.0     6\n",
       "4.9     6\n",
       "6.1     6\n",
       "5.4     6\n",
       "5.6     6\n",
       "6.5     5\n",
       "4.8     5\n",
       "7.7     4\n",
       "6.9     4\n",
       "5.2     4\n",
       "6.2     4\n",
       "4.6     4\n",
       "7.2     3\n",
       "6.8     3\n",
       "4.4     3\n",
       "5.9     3\n",
       "6.6     2\n",
       "4.7     2\n",
       "7.6     1\n",
       "7.4     1\n",
       "4.3     1\n",
       "7.9     1\n",
       "7.3     1\n",
       "7.0     1\n",
       "4.5     1\n",
       "5.3     1\n",
       "7.1     1\n",
       "Name: sepal length, dtype: int64"
      ]
     },
     "execution_count": 123,
     "metadata": {},
     "output_type": "execute_result"
    }
   ],
   "source": [
    "sepal_len_cnt=data['sepal length'].value_counts()\n",
    "sepal_len_cnt"
   ]
  },
  {
   "cell_type": "code",
   "execution_count": 134,
   "metadata": {},
   "outputs": [
    {
     "data": {
      "text/plain": [
       "Iris-setosa        50\n",
       "Iris-versicolor    50\n",
       "Iris-virginica     50\n",
       "Name: Cat, dtype: int64"
      ]
     },
     "execution_count": 134,
     "metadata": {},
     "output_type": "execute_result"
    }
   ],
   "source": [
    "data['Cat'].value_counts()"
   ]
  },
  {
   "cell_type": "code",
   "execution_count": 135,
   "metadata": {},
   "outputs": [
    {
     "data": {
      "text/plain": [
       "0       True\n",
       "1       True\n",
       "2       True\n",
       "3       True\n",
       "4       True\n",
       "5       True\n",
       "6       True\n",
       "7       True\n",
       "8       True\n",
       "9       True\n",
       "10      True\n",
       "11      True\n",
       "12      True\n",
       "13      True\n",
       "14      True\n",
       "15      True\n",
       "16      True\n",
       "17      True\n",
       "18      True\n",
       "19      True\n",
       "20      True\n",
       "21      True\n",
       "22      True\n",
       "23      True\n",
       "24      True\n",
       "25      True\n",
       "26      True\n",
       "27      True\n",
       "28      True\n",
       "29      True\n",
       "       ...  \n",
       "120    False\n",
       "121    False\n",
       "122    False\n",
       "123    False\n",
       "124    False\n",
       "125    False\n",
       "126    False\n",
       "127    False\n",
       "128    False\n",
       "129    False\n",
       "130    False\n",
       "131    False\n",
       "132    False\n",
       "133    False\n",
       "134    False\n",
       "135    False\n",
       "136    False\n",
       "137    False\n",
       "138    False\n",
       "139    False\n",
       "140    False\n",
       "141    False\n",
       "142    False\n",
       "143    False\n",
       "144    False\n",
       "145    False\n",
       "146    False\n",
       "147    False\n",
       "148    False\n",
       "149    False\n",
       "Name: Cat, Length: 150, dtype: bool"
      ]
     },
     "execution_count": 135,
     "metadata": {},
     "output_type": "execute_result"
    }
   ],
   "source": [
    "data['Cat'] == 'Iris-setosa'"
   ]
  },
  {
   "cell_type": "code",
   "execution_count": 136,
   "metadata": {},
   "outputs": [],
   "source": [
    "sntsosa=data[data['Cat'] == 'Iris-setosa']"
   ]
  },
  {
   "cell_type": "code",
   "execution_count": 137,
   "metadata": {},
   "outputs": [
    {
     "data": {
      "text/html": [
       "<div>\n",
       "<style scoped>\n",
       "    .dataframe tbody tr th:only-of-type {\n",
       "        vertical-align: middle;\n",
       "    }\n",
       "\n",
       "    .dataframe tbody tr th {\n",
       "        vertical-align: top;\n",
       "    }\n",
       "\n",
       "    .dataframe thead th {\n",
       "        text-align: right;\n",
       "    }\n",
       "</style>\n",
       "<table border=\"1\" class=\"dataframe\">\n",
       "  <thead>\n",
       "    <tr style=\"text-align: right;\">\n",
       "      <th></th>\n",
       "      <th>sepal length</th>\n",
       "      <th>sepal width</th>\n",
       "      <th>petal length</th>\n",
       "      <th>petal width</th>\n",
       "      <th>Cat</th>\n",
       "    </tr>\n",
       "  </thead>\n",
       "  <tbody>\n",
       "    <tr>\n",
       "      <th>0</th>\n",
       "      <td>5.1</td>\n",
       "      <td>3.5</td>\n",
       "      <td>1.4</td>\n",
       "      <td>0.2</td>\n",
       "      <td>Iris-setosa</td>\n",
       "    </tr>\n",
       "    <tr>\n",
       "      <th>1</th>\n",
       "      <td>4.9</td>\n",
       "      <td>3.0</td>\n",
       "      <td>1.4</td>\n",
       "      <td>0.2</td>\n",
       "      <td>Iris-setosa</td>\n",
       "    </tr>\n",
       "    <tr>\n",
       "      <th>2</th>\n",
       "      <td>4.7</td>\n",
       "      <td>3.2</td>\n",
       "      <td>1.3</td>\n",
       "      <td>0.2</td>\n",
       "      <td>Iris-setosa</td>\n",
       "    </tr>\n",
       "    <tr>\n",
       "      <th>3</th>\n",
       "      <td>4.6</td>\n",
       "      <td>3.1</td>\n",
       "      <td>1.5</td>\n",
       "      <td>0.2</td>\n",
       "      <td>Iris-setosa</td>\n",
       "    </tr>\n",
       "    <tr>\n",
       "      <th>4</th>\n",
       "      <td>5.0</td>\n",
       "      <td>3.6</td>\n",
       "      <td>1.4</td>\n",
       "      <td>0.2</td>\n",
       "      <td>Iris-setosa</td>\n",
       "    </tr>\n",
       "  </tbody>\n",
       "</table>\n",
       "</div>"
      ],
      "text/plain": [
       "   sepal length  sepal width  petal length  petal width          Cat\n",
       "0           5.1          3.5           1.4          0.2  Iris-setosa\n",
       "1           4.9          3.0           1.4          0.2  Iris-setosa\n",
       "2           4.7          3.2           1.3          0.2  Iris-setosa\n",
       "3           4.6          3.1           1.5          0.2  Iris-setosa\n",
       "4           5.0          3.6           1.4          0.2  Iris-setosa"
      ]
     },
     "execution_count": 137,
     "metadata": {},
     "output_type": "execute_result"
    }
   ],
   "source": [
    "sntsosa[:5]"
   ]
  },
  {
   "cell_type": "code",
   "execution_count": 139,
   "metadata": {},
   "outputs": [
    {
     "data": {
      "text/html": [
       "<div>\n",
       "<style scoped>\n",
       "    .dataframe tbody tr th:only-of-type {\n",
       "        vertical-align: middle;\n",
       "    }\n",
       "\n",
       "    .dataframe tbody tr th {\n",
       "        vertical-align: top;\n",
       "    }\n",
       "\n",
       "    .dataframe thead th {\n",
       "        text-align: right;\n",
       "    }\n",
       "</style>\n",
       "<table border=\"1\" class=\"dataframe\">\n",
       "  <thead>\n",
       "    <tr style=\"text-align: right;\">\n",
       "      <th></th>\n",
       "      <th>quarter</th>\n",
       "      <th>stock</th>\n",
       "      <th>open</th>\n",
       "      <th>high</th>\n",
       "      <th>low</th>\n",
       "      <th>close</th>\n",
       "      <th>volume</th>\n",
       "      <th>percent_change_price</th>\n",
       "      <th>percent_change_volume_over_last_wk</th>\n",
       "      <th>previous_weeks_volume</th>\n",
       "      <th>next_weeks_open</th>\n",
       "      <th>next_weeks_close</th>\n",
       "      <th>percent_change_next_weeks_price</th>\n",
       "      <th>days_to_next_dividend</th>\n",
       "      <th>percent_return_next_dividend</th>\n",
       "    </tr>\n",
       "    <tr>\n",
       "      <th>date</th>\n",
       "      <th></th>\n",
       "      <th></th>\n",
       "      <th></th>\n",
       "      <th></th>\n",
       "      <th></th>\n",
       "      <th></th>\n",
       "      <th></th>\n",
       "      <th></th>\n",
       "      <th></th>\n",
       "      <th></th>\n",
       "      <th></th>\n",
       "      <th></th>\n",
       "      <th></th>\n",
       "      <th></th>\n",
       "      <th></th>\n",
       "    </tr>\n",
       "  </thead>\n",
       "  <tbody>\n",
       "    <tr>\n",
       "      <th>2011-01-07</th>\n",
       "      <td>1</td>\n",
       "      <td>AA</td>\n",
       "      <td>$15.82</td>\n",
       "      <td>$16.72</td>\n",
       "      <td>$15.78</td>\n",
       "      <td>$16.42</td>\n",
       "      <td>239655616</td>\n",
       "      <td>3.79267</td>\n",
       "      <td>NaN</td>\n",
       "      <td>NaN</td>\n",
       "      <td>$16.71</td>\n",
       "      <td>$15.97</td>\n",
       "      <td>-4.428490</td>\n",
       "      <td>26</td>\n",
       "      <td>0.182704</td>\n",
       "    </tr>\n",
       "    <tr>\n",
       "      <th>2011-01-14</th>\n",
       "      <td>1</td>\n",
       "      <td>AA</td>\n",
       "      <td>$16.71</td>\n",
       "      <td>$16.71</td>\n",
       "      <td>$15.64</td>\n",
       "      <td>$15.97</td>\n",
       "      <td>242963398</td>\n",
       "      <td>-4.42849</td>\n",
       "      <td>1.380223</td>\n",
       "      <td>239655616.0</td>\n",
       "      <td>$16.19</td>\n",
       "      <td>$15.79</td>\n",
       "      <td>-2.470660</td>\n",
       "      <td>19</td>\n",
       "      <td>0.187852</td>\n",
       "    </tr>\n",
       "    <tr>\n",
       "      <th>2011-01-21</th>\n",
       "      <td>1</td>\n",
       "      <td>AA</td>\n",
       "      <td>$16.19</td>\n",
       "      <td>$16.38</td>\n",
       "      <td>$15.60</td>\n",
       "      <td>$15.79</td>\n",
       "      <td>138428495</td>\n",
       "      <td>-2.47066</td>\n",
       "      <td>-43.024959</td>\n",
       "      <td>242963398.0</td>\n",
       "      <td>$15.87</td>\n",
       "      <td>$16.13</td>\n",
       "      <td>1.638310</td>\n",
       "      <td>12</td>\n",
       "      <td>0.189994</td>\n",
       "    </tr>\n",
       "    <tr>\n",
       "      <th>2011-01-28</th>\n",
       "      <td>1</td>\n",
       "      <td>AA</td>\n",
       "      <td>$15.87</td>\n",
       "      <td>$16.63</td>\n",
       "      <td>$15.82</td>\n",
       "      <td>$16.13</td>\n",
       "      <td>151379173</td>\n",
       "      <td>1.63831</td>\n",
       "      <td>9.355500</td>\n",
       "      <td>138428495.0</td>\n",
       "      <td>$16.18</td>\n",
       "      <td>$17.14</td>\n",
       "      <td>5.933250</td>\n",
       "      <td>5</td>\n",
       "      <td>0.185989</td>\n",
       "    </tr>\n",
       "    <tr>\n",
       "      <th>2011-02-04</th>\n",
       "      <td>1</td>\n",
       "      <td>AA</td>\n",
       "      <td>$16.18</td>\n",
       "      <td>$17.39</td>\n",
       "      <td>$16.18</td>\n",
       "      <td>$17.14</td>\n",
       "      <td>154387761</td>\n",
       "      <td>5.93325</td>\n",
       "      <td>1.987452</td>\n",
       "      <td>151379173.0</td>\n",
       "      <td>$17.33</td>\n",
       "      <td>$17.37</td>\n",
       "      <td>0.230814</td>\n",
       "      <td>97</td>\n",
       "      <td>0.175029</td>\n",
       "    </tr>\n",
       "  </tbody>\n",
       "</table>\n",
       "</div>"
      ],
      "text/plain": [
       "            quarter stock    open    high     low   close     volume  \\\n",
       "date                                                                   \n",
       "2011-01-07        1    AA  $15.82  $16.72  $15.78  $16.42  239655616   \n",
       "2011-01-14        1    AA  $16.71  $16.71  $15.64  $15.97  242963398   \n",
       "2011-01-21        1    AA  $16.19  $16.38  $15.60  $15.79  138428495   \n",
       "2011-01-28        1    AA  $15.87  $16.63  $15.82  $16.13  151379173   \n",
       "2011-02-04        1    AA  $16.18  $17.39  $16.18  $17.14  154387761   \n",
       "\n",
       "            percent_change_price  percent_change_volume_over_last_wk  \\\n",
       "date                                                                   \n",
       "2011-01-07               3.79267                                 NaN   \n",
       "2011-01-14              -4.42849                            1.380223   \n",
       "2011-01-21              -2.47066                          -43.024959   \n",
       "2011-01-28               1.63831                            9.355500   \n",
       "2011-02-04               5.93325                            1.987452   \n",
       "\n",
       "            previous_weeks_volume next_weeks_open next_weeks_close  \\\n",
       "date                                                                 \n",
       "2011-01-07                    NaN          $16.71           $15.97   \n",
       "2011-01-14            239655616.0          $16.19           $15.79   \n",
       "2011-01-21            242963398.0          $15.87           $16.13   \n",
       "2011-01-28            138428495.0          $16.18           $17.14   \n",
       "2011-02-04            151379173.0          $17.33           $17.37   \n",
       "\n",
       "            percent_change_next_weeks_price  days_to_next_dividend  \\\n",
       "date                                                                 \n",
       "2011-01-07                        -4.428490                     26   \n",
       "2011-01-14                        -2.470660                     19   \n",
       "2011-01-21                         1.638310                     12   \n",
       "2011-01-28                         5.933250                      5   \n",
       "2011-02-04                         0.230814                     97   \n",
       "\n",
       "            percent_return_next_dividend  \n",
       "date                                      \n",
       "2011-01-07                      0.182704  \n",
       "2011-01-14                      0.187852  \n",
       "2011-01-21                      0.189994  \n",
       "2011-01-28                      0.185989  \n",
       "2011-02-04                      0.175029  "
      ]
     },
     "execution_count": 139,
     "metadata": {},
     "output_type": "execute_result"
    }
   ],
   "source": [
    "stockdata = pd.read_csv(\"dow_jones_index.data\",parse_dates=['date'], \n",
    "index_col=['date'], nrows=100)\n",
    "stockdata.head()"
   ]
  },
  {
   "cell_type": "code",
   "execution_count": 140,
   "metadata": {},
   "outputs": [
    {
     "data": {
      "text/plain": [
       "1453438639"
      ]
     },
     "execution_count": 140,
     "metadata": {},
     "output_type": "execute_result"
    }
   ],
   "source": [
    "max(stockdata['volume'])"
   ]
  },
  {
   "cell_type": "code",
   "execution_count": 141,
   "metadata": {},
   "outputs": [
    {
     "data": {
      "text/plain": [
       "7.621739999999999"
      ]
     },
     "execution_count": 141,
     "metadata": {},
     "output_type": "execute_result"
    }
   ],
   "source": [
    "max(stockdata['percent_change_price'])"
   ]
  },
  {
   "cell_type": "code",
   "execution_count": 142,
   "metadata": {},
   "outputs": [
    {
     "data": {
      "text/plain": [
       "DatetimeIndex(['2011-01-07', '2011-01-14', '2011-01-21', '2011-01-28',\n",
       "               '2011-02-04', '2011-02-11', '2011-02-18', '2011-02-25',\n",
       "               '2011-03-04', '2011-03-11', '2011-03-18', '2011-03-25',\n",
       "               '2011-01-07', '2011-01-14', '2011-01-21', '2011-01-28',\n",
       "               '2011-02-04', '2011-02-11', '2011-02-18', '2011-02-25',\n",
       "               '2011-03-04', '2011-03-11', '2011-03-18', '2011-03-25',\n",
       "               '2011-01-07', '2011-01-14', '2011-01-21', '2011-01-28',\n",
       "               '2011-02-04', '2011-02-11', '2011-02-18', '2011-02-25',\n",
       "               '2011-03-04', '2011-03-11', '2011-03-18', '2011-03-25',\n",
       "               '2011-01-07', '2011-01-14', '2011-01-21', '2011-01-28',\n",
       "               '2011-02-04', '2011-02-11', '2011-02-18', '2011-02-25',\n",
       "               '2011-03-04', '2011-03-11', '2011-03-18', '2011-03-25',\n",
       "               '2011-01-07', '2011-01-14', '2011-01-21', '2011-01-28',\n",
       "               '2011-02-04', '2011-02-11', '2011-02-18', '2011-02-25',\n",
       "               '2011-03-04', '2011-03-11', '2011-03-18', '2011-03-25',\n",
       "               '2011-01-07', '2011-01-14', '2011-01-21', '2011-01-28',\n",
       "               '2011-02-04', '2011-02-11', '2011-02-18', '2011-02-25',\n",
       "               '2011-03-04', '2011-03-11', '2011-03-18', '2011-03-25',\n",
       "               '2011-01-07', '2011-01-14', '2011-01-21', '2011-01-28',\n",
       "               '2011-02-04', '2011-02-11', '2011-02-18', '2011-02-25',\n",
       "               '2011-03-04', '2011-03-11', '2011-03-18', '2011-03-25',\n",
       "               '2011-01-07', '2011-01-14', '2011-01-21', '2011-01-28',\n",
       "               '2011-02-04', '2011-02-11', '2011-02-18', '2011-02-25',\n",
       "               '2011-03-04', '2011-03-11', '2011-03-18', '2011-03-25',\n",
       "               '2011-01-07', '2011-01-14', '2011-01-21', '2011-01-28'],\n",
       "              dtype='datetime64[ns]', name='date', freq=None)"
      ]
     },
     "execution_count": 142,
     "metadata": {},
     "output_type": "execute_result"
    }
   ],
   "source": [
    "stockdata.index"
   ]
  },
  {
   "cell_type": "code",
   "execution_count": 143,
   "metadata": {},
   "outputs": [
    {
     "data": {
      "text/plain": [
       "Int64Index([ 7, 14, 21, 28,  4, 11, 18, 25,  4, 11, 18, 25,  7, 14, 21, 28,  4,\n",
       "            11, 18, 25,  4, 11, 18, 25,  7, 14, 21, 28,  4, 11, 18, 25,  4, 11,\n",
       "            18, 25,  7, 14, 21, 28,  4, 11, 18, 25,  4, 11, 18, 25,  7, 14, 21,\n",
       "            28,  4, 11, 18, 25,  4, 11, 18, 25,  7, 14, 21, 28,  4, 11, 18, 25,\n",
       "             4, 11, 18, 25,  7, 14, 21, 28,  4, 11, 18, 25,  4, 11, 18, 25,  7,\n",
       "            14, 21, 28,  4, 11, 18, 25,  4, 11, 18, 25,  7, 14, 21, 28],\n",
       "           dtype='int64', name='date')"
      ]
     },
     "execution_count": 143,
     "metadata": {},
     "output_type": "execute_result"
    }
   ],
   "source": [
    "stockdata.index.day"
   ]
  },
  {
   "cell_type": "code",
   "execution_count": 144,
   "metadata": {},
   "outputs": [
    {
     "data": {
      "text/plain": [
       "Int64Index([1, 1, 1, 1, 2, 2, 2, 2, 3, 3, 3, 3, 1, 1, 1, 1, 2, 2, 2, 2, 3, 3,\n",
       "            3, 3, 1, 1, 1, 1, 2, 2, 2, 2, 3, 3, 3, 3, 1, 1, 1, 1, 2, 2, 2, 2,\n",
       "            3, 3, 3, 3, 1, 1, 1, 1, 2, 2, 2, 2, 3, 3, 3, 3, 1, 1, 1, 1, 2, 2,\n",
       "            2, 2, 3, 3, 3, 3, 1, 1, 1, 1, 2, 2, 2, 2, 3, 3, 3, 3, 1, 1, 1, 1,\n",
       "            2, 2, 2, 2, 3, 3, 3, 3, 1, 1, 1, 1],\n",
       "           dtype='int64', name='date')"
      ]
     },
     "execution_count": 144,
     "metadata": {},
     "output_type": "execute_result"
    }
   ],
   "source": [
    "stockdata.index.month"
   ]
  },
  {
   "cell_type": "code",
   "execution_count": 145,
   "metadata": {},
   "outputs": [
    {
     "data": {
      "text/plain": [
       "Int64Index([2011, 2011, 2011, 2011, 2011, 2011, 2011, 2011, 2011, 2011, 2011,\n",
       "            2011, 2011, 2011, 2011, 2011, 2011, 2011, 2011, 2011, 2011, 2011,\n",
       "            2011, 2011, 2011, 2011, 2011, 2011, 2011, 2011, 2011, 2011, 2011,\n",
       "            2011, 2011, 2011, 2011, 2011, 2011, 2011, 2011, 2011, 2011, 2011,\n",
       "            2011, 2011, 2011, 2011, 2011, 2011, 2011, 2011, 2011, 2011, 2011,\n",
       "            2011, 2011, 2011, 2011, 2011, 2011, 2011, 2011, 2011, 2011, 2011,\n",
       "            2011, 2011, 2011, 2011, 2011, 2011, 2011, 2011, 2011, 2011, 2011,\n",
       "            2011, 2011, 2011, 2011, 2011, 2011, 2011, 2011, 2011, 2011, 2011,\n",
       "            2011, 2011, 2011, 2011, 2011, 2011, 2011, 2011, 2011, 2011, 2011,\n",
       "            2011],\n",
       "           dtype='int64', name='date')"
      ]
     },
     "execution_count": 145,
     "metadata": {},
     "output_type": "execute_result"
    }
   ],
   "source": [
    "stockdata.index.year"
   ]
  },
  {
   "cell_type": "code",
   "execution_count": 146,
   "metadata": {},
   "outputs": [
    {
     "name": "stderr",
     "output_type": "stream",
     "text": [
      "/home/nghi/anaconda3/envs/nlp/lib/python3.4/site-packages/ipykernel_launcher.py:1: FutureWarning: how in .resample() is deprecated\n",
      "the new syntax is .resample(...)..apply(<func>)\n",
      "  \"\"\"Entry point for launching an IPython kernel.\n"
     ]
    },
    {
     "data": {
      "text/html": [
       "<div>\n",
       "<style scoped>\n",
       "    .dataframe tbody tr th:only-of-type {\n",
       "        vertical-align: middle;\n",
       "    }\n",
       "\n",
       "    .dataframe tbody tr th {\n",
       "        vertical-align: top;\n",
       "    }\n",
       "\n",
       "    .dataframe thead th {\n",
       "        text-align: right;\n",
       "    }\n",
       "</style>\n",
       "<table border=\"1\" class=\"dataframe\">\n",
       "  <thead>\n",
       "    <tr style=\"text-align: right;\">\n",
       "      <th></th>\n",
       "      <th>quarter</th>\n",
       "      <th>volume</th>\n",
       "      <th>percent_change_price</th>\n",
       "      <th>percent_change_volume_over_last_wk</th>\n",
       "      <th>previous_weeks_volume</th>\n",
       "      <th>percent_change_next_weeks_price</th>\n",
       "      <th>days_to_next_dividend</th>\n",
       "      <th>percent_return_next_dividend</th>\n",
       "    </tr>\n",
       "    <tr>\n",
       "      <th>date</th>\n",
       "      <th></th>\n",
       "      <th></th>\n",
       "      <th></th>\n",
       "      <th></th>\n",
       "      <th></th>\n",
       "      <th></th>\n",
       "      <th></th>\n",
       "      <th></th>\n",
       "    </tr>\n",
       "  </thead>\n",
       "  <tbody>\n",
       "    <tr>\n",
       "      <th>2011-01-31</th>\n",
       "      <td>36</td>\n",
       "      <td>6779916771</td>\n",
       "      <td>19.637287</td>\n",
       "      <td>165.675299</td>\n",
       "      <td>5.057285e+09</td>\n",
       "      <td>34.302458</td>\n",
       "      <td>2618</td>\n",
       "      <td>18.519712</td>\n",
       "    </tr>\n",
       "    <tr>\n",
       "      <th>2011-02-28</th>\n",
       "      <td>32</td>\n",
       "      <td>5713027799</td>\n",
       "      <td>28.553732</td>\n",
       "      <td>279.247846</td>\n",
       "      <td>6.077730e+09</td>\n",
       "      <td>-4.583387</td>\n",
       "      <td>1637</td>\n",
       "      <td>13.819996</td>\n",
       "    </tr>\n",
       "    <tr>\n",
       "      <th>2011-03-31</th>\n",
       "      <td>32</td>\n",
       "      <td>5535580114</td>\n",
       "      <td>-7.317345</td>\n",
       "      <td>-23.774935</td>\n",
       "      <td>5.596445e+09</td>\n",
       "      <td>3.263918</td>\n",
       "      <td>1560</td>\n",
       "      <td>13.930990</td>\n",
       "    </tr>\n",
       "  </tbody>\n",
       "</table>\n",
       "</div>"
      ],
      "text/plain": [
       "            quarter      volume  percent_change_price  \\\n",
       "date                                                    \n",
       "2011-01-31       36  6779916771             19.637287   \n",
       "2011-02-28       32  5713027799             28.553732   \n",
       "2011-03-31       32  5535580114             -7.317345   \n",
       "\n",
       "            percent_change_volume_over_last_wk  previous_weeks_volume  \\\n",
       "date                                                                    \n",
       "2011-01-31                          165.675299           5.057285e+09   \n",
       "2011-02-28                          279.247846           6.077730e+09   \n",
       "2011-03-31                          -23.774935           5.596445e+09   \n",
       "\n",
       "            percent_change_next_weeks_price  days_to_next_dividend  \\\n",
       "date                                                                 \n",
       "2011-01-31                        34.302458                   2618   \n",
       "2011-02-28                        -4.583387                   1637   \n",
       "2011-03-31                         3.263918                   1560   \n",
       "\n",
       "            percent_return_next_dividend  \n",
       "date                                      \n",
       "2011-01-31                     18.519712  \n",
       "2011-02-28                     13.819996  \n",
       "2011-03-31                     13.930990  "
      ]
     },
     "execution_count": 146,
     "metadata": {},
     "output_type": "execute_result"
    }
   ],
   "source": [
    "stockdata.resample('M', how=np.sum)"
   ]
  },
  {
   "cell_type": "code",
   "execution_count": 147,
   "metadata": {},
   "outputs": [
    {
     "data": {
      "text/html": [
       "<div>\n",
       "<style scoped>\n",
       "    .dataframe tbody tr th:only-of-type {\n",
       "        vertical-align: middle;\n",
       "    }\n",
       "\n",
       "    .dataframe tbody tr th {\n",
       "        vertical-align: top;\n",
       "    }\n",
       "\n",
       "    .dataframe thead th {\n",
       "        text-align: right;\n",
       "    }\n",
       "</style>\n",
       "<table border=\"1\" class=\"dataframe\">\n",
       "  <thead>\n",
       "    <tr style=\"text-align: right;\">\n",
       "      <th></th>\n",
       "      <th>quarter</th>\n",
       "      <th>stock</th>\n",
       "      <th>open</th>\n",
       "      <th>high</th>\n",
       "      <th>low</th>\n",
       "      <th>close</th>\n",
       "      <th>volume</th>\n",
       "      <th>percent_change_price</th>\n",
       "      <th>previous_weeks_volume</th>\n",
       "      <th>next_weeks_open</th>\n",
       "      <th>next_weeks_close</th>\n",
       "      <th>percent_change_next_weeks_price</th>\n",
       "      <th>days_to_next_dividend</th>\n",
       "      <th>percent_return_next_dividend</th>\n",
       "    </tr>\n",
       "    <tr>\n",
       "      <th>date</th>\n",
       "      <th></th>\n",
       "      <th></th>\n",
       "      <th></th>\n",
       "      <th></th>\n",
       "      <th></th>\n",
       "      <th></th>\n",
       "      <th></th>\n",
       "      <th></th>\n",
       "      <th></th>\n",
       "      <th></th>\n",
       "      <th></th>\n",
       "      <th></th>\n",
       "      <th></th>\n",
       "      <th></th>\n",
       "    </tr>\n",
       "  </thead>\n",
       "  <tbody>\n",
       "    <tr>\n",
       "      <th>2011-01-07</th>\n",
       "      <td>1</td>\n",
       "      <td>AA</td>\n",
       "      <td>$15.82</td>\n",
       "      <td>$16.72</td>\n",
       "      <td>$15.78</td>\n",
       "      <td>$16.42</td>\n",
       "      <td>239655616</td>\n",
       "      <td>3.792670</td>\n",
       "      <td>NaN</td>\n",
       "      <td>$16.71</td>\n",
       "      <td>$15.97</td>\n",
       "      <td>-4.428490</td>\n",
       "      <td>26</td>\n",
       "      <td>0.182704</td>\n",
       "    </tr>\n",
       "    <tr>\n",
       "      <th>2011-01-14</th>\n",
       "      <td>1</td>\n",
       "      <td>AA</td>\n",
       "      <td>$16.71</td>\n",
       "      <td>$16.71</td>\n",
       "      <td>$15.64</td>\n",
       "      <td>$15.97</td>\n",
       "      <td>242963398</td>\n",
       "      <td>-4.428490</td>\n",
       "      <td>239655616.0</td>\n",
       "      <td>$16.19</td>\n",
       "      <td>$15.79</td>\n",
       "      <td>-2.470660</td>\n",
       "      <td>19</td>\n",
       "      <td>0.187852</td>\n",
       "    </tr>\n",
       "    <tr>\n",
       "      <th>2011-01-21</th>\n",
       "      <td>1</td>\n",
       "      <td>AA</td>\n",
       "      <td>$16.19</td>\n",
       "      <td>$16.38</td>\n",
       "      <td>$15.60</td>\n",
       "      <td>$15.79</td>\n",
       "      <td>138428495</td>\n",
       "      <td>-2.470660</td>\n",
       "      <td>242963398.0</td>\n",
       "      <td>$15.87</td>\n",
       "      <td>$16.13</td>\n",
       "      <td>1.638310</td>\n",
       "      <td>12</td>\n",
       "      <td>0.189994</td>\n",
       "    </tr>\n",
       "    <tr>\n",
       "      <th>2011-01-28</th>\n",
       "      <td>1</td>\n",
       "      <td>AA</td>\n",
       "      <td>$15.87</td>\n",
       "      <td>$16.63</td>\n",
       "      <td>$15.82</td>\n",
       "      <td>$16.13</td>\n",
       "      <td>151379173</td>\n",
       "      <td>1.638310</td>\n",
       "      <td>138428495.0</td>\n",
       "      <td>$16.18</td>\n",
       "      <td>$17.14</td>\n",
       "      <td>5.933250</td>\n",
       "      <td>5</td>\n",
       "      <td>0.185989</td>\n",
       "    </tr>\n",
       "    <tr>\n",
       "      <th>2011-02-04</th>\n",
       "      <td>1</td>\n",
       "      <td>AA</td>\n",
       "      <td>$16.18</td>\n",
       "      <td>$17.39</td>\n",
       "      <td>$16.18</td>\n",
       "      <td>$17.14</td>\n",
       "      <td>154387761</td>\n",
       "      <td>5.933250</td>\n",
       "      <td>151379173.0</td>\n",
       "      <td>$17.33</td>\n",
       "      <td>$17.37</td>\n",
       "      <td>0.230814</td>\n",
       "      <td>97</td>\n",
       "      <td>0.175029</td>\n",
       "    </tr>\n",
       "    <tr>\n",
       "      <th>2011-02-11</th>\n",
       "      <td>1</td>\n",
       "      <td>AA</td>\n",
       "      <td>$17.33</td>\n",
       "      <td>$17.48</td>\n",
       "      <td>$16.97</td>\n",
       "      <td>$17.37</td>\n",
       "      <td>114691279</td>\n",
       "      <td>0.230814</td>\n",
       "      <td>154387761.0</td>\n",
       "      <td>$17.39</td>\n",
       "      <td>$17.28</td>\n",
       "      <td>-0.632547</td>\n",
       "      <td>90</td>\n",
       "      <td>0.172712</td>\n",
       "    </tr>\n",
       "    <tr>\n",
       "      <th>2011-02-18</th>\n",
       "      <td>1</td>\n",
       "      <td>AA</td>\n",
       "      <td>$17.39</td>\n",
       "      <td>$17.68</td>\n",
       "      <td>$17.28</td>\n",
       "      <td>$17.28</td>\n",
       "      <td>80023895</td>\n",
       "      <td>-0.632547</td>\n",
       "      <td>114691279.0</td>\n",
       "      <td>$16.98</td>\n",
       "      <td>$16.68</td>\n",
       "      <td>-1.766780</td>\n",
       "      <td>83</td>\n",
       "      <td>0.173611</td>\n",
       "    </tr>\n",
       "    <tr>\n",
       "      <th>2011-02-25</th>\n",
       "      <td>1</td>\n",
       "      <td>AA</td>\n",
       "      <td>$16.98</td>\n",
       "      <td>$17.15</td>\n",
       "      <td>$15.96</td>\n",
       "      <td>$16.68</td>\n",
       "      <td>132981863</td>\n",
       "      <td>-1.766780</td>\n",
       "      <td>80023895.0</td>\n",
       "      <td>$16.81</td>\n",
       "      <td>$16.58</td>\n",
       "      <td>-1.368230</td>\n",
       "      <td>76</td>\n",
       "      <td>0.179856</td>\n",
       "    </tr>\n",
       "    <tr>\n",
       "      <th>2011-03-04</th>\n",
       "      <td>1</td>\n",
       "      <td>AA</td>\n",
       "      <td>$16.81</td>\n",
       "      <td>$16.94</td>\n",
       "      <td>$16.13</td>\n",
       "      <td>$16.58</td>\n",
       "      <td>109493077</td>\n",
       "      <td>-1.368230</td>\n",
       "      <td>132981863.0</td>\n",
       "      <td>$16.58</td>\n",
       "      <td>$16.03</td>\n",
       "      <td>-3.317250</td>\n",
       "      <td>69</td>\n",
       "      <td>0.180941</td>\n",
       "    </tr>\n",
       "    <tr>\n",
       "      <th>2011-03-11</th>\n",
       "      <td>1</td>\n",
       "      <td>AA</td>\n",
       "      <td>$16.58</td>\n",
       "      <td>$16.75</td>\n",
       "      <td>$15.42</td>\n",
       "      <td>$16.03</td>\n",
       "      <td>114332562</td>\n",
       "      <td>-3.317250</td>\n",
       "      <td>109493077.0</td>\n",
       "      <td>$15.95</td>\n",
       "      <td>$16.11</td>\n",
       "      <td>1.003130</td>\n",
       "      <td>62</td>\n",
       "      <td>0.187149</td>\n",
       "    </tr>\n",
       "    <tr>\n",
       "      <th>2011-03-18</th>\n",
       "      <td>1</td>\n",
       "      <td>AA</td>\n",
       "      <td>$15.95</td>\n",
       "      <td>$16.33</td>\n",
       "      <td>$15.43</td>\n",
       "      <td>$16.11</td>\n",
       "      <td>130374108</td>\n",
       "      <td>1.003130</td>\n",
       "      <td>114332562.0</td>\n",
       "      <td>$16.38</td>\n",
       "      <td>$17.09</td>\n",
       "      <td>4.334550</td>\n",
       "      <td>55</td>\n",
       "      <td>0.186220</td>\n",
       "    </tr>\n",
       "    <tr>\n",
       "      <th>2011-03-25</th>\n",
       "      <td>1</td>\n",
       "      <td>AA</td>\n",
       "      <td>$16.38</td>\n",
       "      <td>$17.24</td>\n",
       "      <td>$16.26</td>\n",
       "      <td>$17.09</td>\n",
       "      <td>95550392</td>\n",
       "      <td>4.334550</td>\n",
       "      <td>130374108.0</td>\n",
       "      <td>$17.13</td>\n",
       "      <td>$17.47</td>\n",
       "      <td>1.984820</td>\n",
       "      <td>48</td>\n",
       "      <td>0.175541</td>\n",
       "    </tr>\n",
       "    <tr>\n",
       "      <th>2011-01-07</th>\n",
       "      <td>1</td>\n",
       "      <td>AXP</td>\n",
       "      <td>$43.30</td>\n",
       "      <td>$45.60</td>\n",
       "      <td>$43.11</td>\n",
       "      <td>$44.36</td>\n",
       "      <td>45102042</td>\n",
       "      <td>2.448040</td>\n",
       "      <td>NaN</td>\n",
       "      <td>$44.20</td>\n",
       "      <td>$46.25</td>\n",
       "      <td>4.638010</td>\n",
       "      <td>89</td>\n",
       "      <td>0.405771</td>\n",
       "    </tr>\n",
       "    <tr>\n",
       "      <th>2011-01-14</th>\n",
       "      <td>1</td>\n",
       "      <td>AXP</td>\n",
       "      <td>$44.20</td>\n",
       "      <td>$46.25</td>\n",
       "      <td>$44.01</td>\n",
       "      <td>$46.25</td>\n",
       "      <td>25913713</td>\n",
       "      <td>4.638010</td>\n",
       "      <td>45102042.0</td>\n",
       "      <td>$46.03</td>\n",
       "      <td>$46.00</td>\n",
       "      <td>-0.065175</td>\n",
       "      <td>82</td>\n",
       "      <td>0.389189</td>\n",
       "    </tr>\n",
       "    <tr>\n",
       "      <th>2011-01-21</th>\n",
       "      <td>1</td>\n",
       "      <td>AXP</td>\n",
       "      <td>$46.03</td>\n",
       "      <td>$46.71</td>\n",
       "      <td>$44.71</td>\n",
       "      <td>$46.00</td>\n",
       "      <td>38824728</td>\n",
       "      <td>-0.065175</td>\n",
       "      <td>25913713.0</td>\n",
       "      <td>$46.05</td>\n",
       "      <td>$43.86</td>\n",
       "      <td>-4.755700</td>\n",
       "      <td>75</td>\n",
       "      <td>0.391304</td>\n",
       "    </tr>\n",
       "    <tr>\n",
       "      <th>2011-01-28</th>\n",
       "      <td>1</td>\n",
       "      <td>AXP</td>\n",
       "      <td>$46.05</td>\n",
       "      <td>$46.27</td>\n",
       "      <td>$43.42</td>\n",
       "      <td>$43.86</td>\n",
       "      <td>51427274</td>\n",
       "      <td>-4.755700</td>\n",
       "      <td>38824728.0</td>\n",
       "      <td>$44.13</td>\n",
       "      <td>$43.82</td>\n",
       "      <td>-0.702470</td>\n",
       "      <td>68</td>\n",
       "      <td>0.410397</td>\n",
       "    </tr>\n",
       "    <tr>\n",
       "      <th>2011-02-04</th>\n",
       "      <td>1</td>\n",
       "      <td>AXP</td>\n",
       "      <td>$44.13</td>\n",
       "      <td>$44.23</td>\n",
       "      <td>$43.15</td>\n",
       "      <td>$43.82</td>\n",
       "      <td>39501680</td>\n",
       "      <td>-0.702470</td>\n",
       "      <td>51427274.0</td>\n",
       "      <td>$43.96</td>\n",
       "      <td>$46.75</td>\n",
       "      <td>6.346680</td>\n",
       "      <td>61</td>\n",
       "      <td>0.410771</td>\n",
       "    </tr>\n",
       "    <tr>\n",
       "      <th>2011-02-11</th>\n",
       "      <td>1</td>\n",
       "      <td>AXP</td>\n",
       "      <td>$43.96</td>\n",
       "      <td>$46.79</td>\n",
       "      <td>$43.88</td>\n",
       "      <td>$46.75</td>\n",
       "      <td>43746998</td>\n",
       "      <td>6.346680</td>\n",
       "      <td>39501680.0</td>\n",
       "      <td>$46.42</td>\n",
       "      <td>$45.53</td>\n",
       "      <td>-1.917280</td>\n",
       "      <td>54</td>\n",
       "      <td>0.385027</td>\n",
       "    </tr>\n",
       "    <tr>\n",
       "      <th>2011-02-18</th>\n",
       "      <td>1</td>\n",
       "      <td>AXP</td>\n",
       "      <td>$46.42</td>\n",
       "      <td>$46.93</td>\n",
       "      <td>$45.53</td>\n",
       "      <td>$45.53</td>\n",
       "      <td>28564910</td>\n",
       "      <td>-1.917280</td>\n",
       "      <td>43746998.0</td>\n",
       "      <td>$44.94</td>\n",
       "      <td>$43.53</td>\n",
       "      <td>-3.137520</td>\n",
       "      <td>47</td>\n",
       "      <td>0.395344</td>\n",
       "    </tr>\n",
       "    <tr>\n",
       "      <th>2011-02-25</th>\n",
       "      <td>1</td>\n",
       "      <td>AXP</td>\n",
       "      <td>$44.94</td>\n",
       "      <td>$45.12</td>\n",
       "      <td>$43.01</td>\n",
       "      <td>$43.53</td>\n",
       "      <td>39654146</td>\n",
       "      <td>-3.137520</td>\n",
       "      <td>28564910.0</td>\n",
       "      <td>$43.73</td>\n",
       "      <td>$43.72</td>\n",
       "      <td>-0.022868</td>\n",
       "      <td>40</td>\n",
       "      <td>0.413508</td>\n",
       "    </tr>\n",
       "    <tr>\n",
       "      <th>2011-03-04</th>\n",
       "      <td>1</td>\n",
       "      <td>AXP</td>\n",
       "      <td>$43.73</td>\n",
       "      <td>$44.68</td>\n",
       "      <td>$42.75</td>\n",
       "      <td>$43.72</td>\n",
       "      <td>38985037</td>\n",
       "      <td>-0.022868</td>\n",
       "      <td>39654146.0</td>\n",
       "      <td>$43.86</td>\n",
       "      <td>$44.28</td>\n",
       "      <td>0.957592</td>\n",
       "      <td>33</td>\n",
       "      <td>0.411711</td>\n",
       "    </tr>\n",
       "    <tr>\n",
       "      <th>2011-03-11</th>\n",
       "      <td>1</td>\n",
       "      <td>AXP</td>\n",
       "      <td>$43.86</td>\n",
       "      <td>$45.54</td>\n",
       "      <td>$43.53</td>\n",
       "      <td>$44.28</td>\n",
       "      <td>37613429</td>\n",
       "      <td>0.957592</td>\n",
       "      <td>38985037.0</td>\n",
       "      <td>$43.86</td>\n",
       "      <td>$44.17</td>\n",
       "      <td>0.706794</td>\n",
       "      <td>26</td>\n",
       "      <td>0.406504</td>\n",
       "    </tr>\n",
       "    <tr>\n",
       "      <th>2011-03-18</th>\n",
       "      <td>1</td>\n",
       "      <td>AXP</td>\n",
       "      <td>$43.86</td>\n",
       "      <td>$44.47</td>\n",
       "      <td>$42.19</td>\n",
       "      <td>$44.17</td>\n",
       "      <td>41757526</td>\n",
       "      <td>0.706794</td>\n",
       "      <td>37613429.0</td>\n",
       "      <td>$44.75</td>\n",
       "      <td>$45.59</td>\n",
       "      <td>1.877090</td>\n",
       "      <td>19</td>\n",
       "      <td>0.407516</td>\n",
       "    </tr>\n",
       "    <tr>\n",
       "      <th>2011-03-25</th>\n",
       "      <td>1</td>\n",
       "      <td>AXP</td>\n",
       "      <td>$44.75</td>\n",
       "      <td>$45.61</td>\n",
       "      <td>$44.10</td>\n",
       "      <td>$45.59</td>\n",
       "      <td>30798332</td>\n",
       "      <td>1.877090</td>\n",
       "      <td>41757526.0</td>\n",
       "      <td>$45.54</td>\n",
       "      <td>$45.36</td>\n",
       "      <td>-0.395257</td>\n",
       "      <td>12</td>\n",
       "      <td>0.394823</td>\n",
       "    </tr>\n",
       "    <tr>\n",
       "      <th>2011-01-07</th>\n",
       "      <td>1</td>\n",
       "      <td>BA</td>\n",
       "      <td>$66.15</td>\n",
       "      <td>$70.10</td>\n",
       "      <td>$66.00</td>\n",
       "      <td>$69.38</td>\n",
       "      <td>36258120</td>\n",
       "      <td>4.882840</td>\n",
       "      <td>NaN</td>\n",
       "      <td>$69.42</td>\n",
       "      <td>$70.07</td>\n",
       "      <td>0.936330</td>\n",
       "      <td>33</td>\n",
       "      <td>0.605362</td>\n",
       "    </tr>\n",
       "    <tr>\n",
       "      <th>2011-01-14</th>\n",
       "      <td>1</td>\n",
       "      <td>BA</td>\n",
       "      <td>$69.42</td>\n",
       "      <td>$70.50</td>\n",
       "      <td>$68.35</td>\n",
       "      <td>$70.07</td>\n",
       "      <td>18834664</td>\n",
       "      <td>0.936330</td>\n",
       "      <td>36258120.0</td>\n",
       "      <td>$70.86</td>\n",
       "      <td>$71.68</td>\n",
       "      <td>1.157210</td>\n",
       "      <td>26</td>\n",
       "      <td>0.599401</td>\n",
       "    </tr>\n",
       "    <tr>\n",
       "      <th>2011-01-21</th>\n",
       "      <td>1</td>\n",
       "      <td>BA</td>\n",
       "      <td>$70.86</td>\n",
       "      <td>$72.99</td>\n",
       "      <td>$70.23</td>\n",
       "      <td>$71.68</td>\n",
       "      <td>29594221</td>\n",
       "      <td>1.157210</td>\n",
       "      <td>18834664.0</td>\n",
       "      <td>$71.52</td>\n",
       "      <td>$69.23</td>\n",
       "      <td>-3.201900</td>\n",
       "      <td>19</td>\n",
       "      <td>0.585938</td>\n",
       "    </tr>\n",
       "    <tr>\n",
       "      <th>2011-01-28</th>\n",
       "      <td>1</td>\n",
       "      <td>BA</td>\n",
       "      <td>$71.52</td>\n",
       "      <td>$72.82</td>\n",
       "      <td>$69.00</td>\n",
       "      <td>$69.23</td>\n",
       "      <td>34929673</td>\n",
       "      <td>-3.201900</td>\n",
       "      <td>29594221.0</td>\n",
       "      <td>$69.26</td>\n",
       "      <td>$71.38</td>\n",
       "      <td>3.060930</td>\n",
       "      <td>12</td>\n",
       "      <td>0.606673</td>\n",
       "    </tr>\n",
       "    <tr>\n",
       "      <th>2011-02-04</th>\n",
       "      <td>1</td>\n",
       "      <td>BA</td>\n",
       "      <td>$69.26</td>\n",
       "      <td>$71.64</td>\n",
       "      <td>$69.12</td>\n",
       "      <td>$71.38</td>\n",
       "      <td>22770062</td>\n",
       "      <td>3.060930</td>\n",
       "      <td>34929673.0</td>\n",
       "      <td>$71.43</td>\n",
       "      <td>$72.14</td>\n",
       "      <td>0.993980</td>\n",
       "      <td>5</td>\n",
       "      <td>0.588400</td>\n",
       "    </tr>\n",
       "    <tr>\n",
       "      <th>2011-02-11</th>\n",
       "      <td>1</td>\n",
       "      <td>BA</td>\n",
       "      <td>$71.43</td>\n",
       "      <td>$72.99</td>\n",
       "      <td>$71.15</td>\n",
       "      <td>$72.14</td>\n",
       "      <td>21809411</td>\n",
       "      <td>0.993980</td>\n",
       "      <td>22770062.0</td>\n",
       "      <td>$72.70</td>\n",
       "      <td>$73.04</td>\n",
       "      <td>0.467675</td>\n",
       "      <td>89</td>\n",
       "      <td>0.582201</td>\n",
       "    </tr>\n",
       "    <tr>\n",
       "      <th>...</th>\n",
       "      <td>...</td>\n",
       "      <td>...</td>\n",
       "      <td>...</td>\n",
       "      <td>...</td>\n",
       "      <td>...</td>\n",
       "      <td>...</td>\n",
       "      <td>...</td>\n",
       "      <td>...</td>\n",
       "      <td>...</td>\n",
       "      <td>...</td>\n",
       "      <td>...</td>\n",
       "      <td>...</td>\n",
       "      <td>...</td>\n",
       "      <td>...</td>\n",
       "    </tr>\n",
       "    <tr>\n",
       "      <th>2011-03-18</th>\n",
       "      <td>1</td>\n",
       "      <td>CSCO</td>\n",
       "      <td>$17.81</td>\n",
       "      <td>$17.88</td>\n",
       "      <td>$16.97</td>\n",
       "      <td>$17.14</td>\n",
       "      <td>444161658</td>\n",
       "      <td>-3.761930</td>\n",
       "      <td>311209442.0</td>\n",
       "      <td>$17.34</td>\n",
       "      <td>$17.28</td>\n",
       "      <td>-0.346021</td>\n",
       "      <td>11</td>\n",
       "      <td>0.350058</td>\n",
       "    </tr>\n",
       "    <tr>\n",
       "      <th>2011-03-25</th>\n",
       "      <td>1</td>\n",
       "      <td>CSCO</td>\n",
       "      <td>$17.34</td>\n",
       "      <td>$17.64</td>\n",
       "      <td>$17.20</td>\n",
       "      <td>$17.28</td>\n",
       "      <td>284574143</td>\n",
       "      <td>-0.346021</td>\n",
       "      <td>444161658.0</td>\n",
       "      <td>$17.36</td>\n",
       "      <td>$17.04</td>\n",
       "      <td>-1.843320</td>\n",
       "      <td>4</td>\n",
       "      <td>0.347222</td>\n",
       "    </tr>\n",
       "    <tr>\n",
       "      <th>2011-01-07</th>\n",
       "      <td>1</td>\n",
       "      <td>CVX</td>\n",
       "      <td>$91.66</td>\n",
       "      <td>$92.48</td>\n",
       "      <td>$90.27</td>\n",
       "      <td>$91.19</td>\n",
       "      <td>35556288</td>\n",
       "      <td>-0.512765</td>\n",
       "      <td>NaN</td>\n",
       "      <td>$90.95</td>\n",
       "      <td>$92.83</td>\n",
       "      <td>2.067070</td>\n",
       "      <td>38</td>\n",
       "      <td>0.789560</td>\n",
       "    </tr>\n",
       "    <tr>\n",
       "      <th>2011-01-14</th>\n",
       "      <td>1</td>\n",
       "      <td>CVX</td>\n",
       "      <td>$90.95</td>\n",
       "      <td>$92.85</td>\n",
       "      <td>$90.12</td>\n",
       "      <td>$92.83</td>\n",
       "      <td>28260512</td>\n",
       "      <td>2.067070</td>\n",
       "      <td>35556288.0</td>\n",
       "      <td>$92.94</td>\n",
       "      <td>$93.78</td>\n",
       "      <td>0.903809</td>\n",
       "      <td>31</td>\n",
       "      <td>0.775611</td>\n",
       "    </tr>\n",
       "    <tr>\n",
       "      <th>2011-01-21</th>\n",
       "      <td>1</td>\n",
       "      <td>CVX</td>\n",
       "      <td>$92.94</td>\n",
       "      <td>$93.94</td>\n",
       "      <td>$91.58</td>\n",
       "      <td>$93.78</td>\n",
       "      <td>27752622</td>\n",
       "      <td>0.903809</td>\n",
       "      <td>28260512.0</td>\n",
       "      <td>$93.89</td>\n",
       "      <td>$93.37</td>\n",
       "      <td>-0.553840</td>\n",
       "      <td>24</td>\n",
       "      <td>0.767754</td>\n",
       "    </tr>\n",
       "    <tr>\n",
       "      <th>2011-01-28</th>\n",
       "      <td>1</td>\n",
       "      <td>CVX</td>\n",
       "      <td>$93.89</td>\n",
       "      <td>$94.97</td>\n",
       "      <td>$92.93</td>\n",
       "      <td>$93.37</td>\n",
       "      <td>42303108</td>\n",
       "      <td>-0.553840</td>\n",
       "      <td>27752622.0</td>\n",
       "      <td>$93.85</td>\n",
       "      <td>$97.11</td>\n",
       "      <td>3.473630</td>\n",
       "      <td>17</td>\n",
       "      <td>0.771126</td>\n",
       "    </tr>\n",
       "    <tr>\n",
       "      <th>2011-02-04</th>\n",
       "      <td>1</td>\n",
       "      <td>CVX</td>\n",
       "      <td>$93.85</td>\n",
       "      <td>$97.44</td>\n",
       "      <td>$93.37</td>\n",
       "      <td>$97.11</td>\n",
       "      <td>48766293</td>\n",
       "      <td>3.473630</td>\n",
       "      <td>42303108.0</td>\n",
       "      <td>$97.28</td>\n",
       "      <td>$96.45</td>\n",
       "      <td>-0.853207</td>\n",
       "      <td>10</td>\n",
       "      <td>0.741427</td>\n",
       "    </tr>\n",
       "    <tr>\n",
       "      <th>2011-02-11</th>\n",
       "      <td>1</td>\n",
       "      <td>CVX</td>\n",
       "      <td>$97.28</td>\n",
       "      <td>$98.23</td>\n",
       "      <td>$95.70</td>\n",
       "      <td>$96.45</td>\n",
       "      <td>38838595</td>\n",
       "      <td>-0.853207</td>\n",
       "      <td>48766293.0</td>\n",
       "      <td>$95.50</td>\n",
       "      <td>$98.72</td>\n",
       "      <td>3.371730</td>\n",
       "      <td>3</td>\n",
       "      <td>0.746501</td>\n",
       "    </tr>\n",
       "    <tr>\n",
       "      <th>2011-02-18</th>\n",
       "      <td>1</td>\n",
       "      <td>CVX</td>\n",
       "      <td>$95.50</td>\n",
       "      <td>$98.72</td>\n",
       "      <td>$95.50</td>\n",
       "      <td>$98.72</td>\n",
       "      <td>28037827</td>\n",
       "      <td>3.371730</td>\n",
       "      <td>38838595.0</td>\n",
       "      <td>$99.23</td>\n",
       "      <td>$102.10</td>\n",
       "      <td>2.892270</td>\n",
       "      <td>89</td>\n",
       "      <td>0.739465</td>\n",
       "    </tr>\n",
       "    <tr>\n",
       "      <th>2011-02-25</th>\n",
       "      <td>1</td>\n",
       "      <td>CVX</td>\n",
       "      <td>$99.23</td>\n",
       "      <td>$103.94</td>\n",
       "      <td>$99.23</td>\n",
       "      <td>$102.10</td>\n",
       "      <td>57897831</td>\n",
       "      <td>2.892270</td>\n",
       "      <td>28037827.0</td>\n",
       "      <td>$102.28</td>\n",
       "      <td>$103.75</td>\n",
       "      <td>1.437230</td>\n",
       "      <td>82</td>\n",
       "      <td>0.714985</td>\n",
       "    </tr>\n",
       "    <tr>\n",
       "      <th>2011-03-04</th>\n",
       "      <td>1</td>\n",
       "      <td>CVX</td>\n",
       "      <td>$102.28</td>\n",
       "      <td>$104.99</td>\n",
       "      <td>$102.18</td>\n",
       "      <td>$103.75</td>\n",
       "      <td>48214502</td>\n",
       "      <td>1.437230</td>\n",
       "      <td>57897831.0</td>\n",
       "      <td>$104.12</td>\n",
       "      <td>$99.93</td>\n",
       "      <td>-4.024200</td>\n",
       "      <td>75</td>\n",
       "      <td>0.703614</td>\n",
       "    </tr>\n",
       "    <tr>\n",
       "      <th>2011-03-11</th>\n",
       "      <td>1</td>\n",
       "      <td>CVX</td>\n",
       "      <td>$104.12</td>\n",
       "      <td>$104.77</td>\n",
       "      <td>$97.60</td>\n",
       "      <td>$99.93</td>\n",
       "      <td>43673568</td>\n",
       "      <td>-4.024200</td>\n",
       "      <td>48214502.0</td>\n",
       "      <td>$99.16</td>\n",
       "      <td>$102.80</td>\n",
       "      <td>3.670840</td>\n",
       "      <td>68</td>\n",
       "      <td>0.730511</td>\n",
       "    </tr>\n",
       "    <tr>\n",
       "      <th>2011-03-18</th>\n",
       "      <td>1</td>\n",
       "      <td>CVX</td>\n",
       "      <td>$99.16</td>\n",
       "      <td>$103.97</td>\n",
       "      <td>$97.98</td>\n",
       "      <td>$102.80</td>\n",
       "      <td>56186791</td>\n",
       "      <td>3.670840</td>\n",
       "      <td>43673568.0</td>\n",
       "      <td>$103.86</td>\n",
       "      <td>$106.78</td>\n",
       "      <td>2.811480</td>\n",
       "      <td>61</td>\n",
       "      <td>0.710117</td>\n",
       "    </tr>\n",
       "    <tr>\n",
       "      <th>2011-03-25</th>\n",
       "      <td>1</td>\n",
       "      <td>CVX</td>\n",
       "      <td>$103.86</td>\n",
       "      <td>$107.01</td>\n",
       "      <td>$103.20</td>\n",
       "      <td>$106.78</td>\n",
       "      <td>39606692</td>\n",
       "      <td>2.811480</td>\n",
       "      <td>56186791.0</td>\n",
       "      <td>$106.40</td>\n",
       "      <td>$108.32</td>\n",
       "      <td>1.804510</td>\n",
       "      <td>54</td>\n",
       "      <td>0.683649</td>\n",
       "    </tr>\n",
       "    <tr>\n",
       "      <th>2011-01-07</th>\n",
       "      <td>1</td>\n",
       "      <td>DD</td>\n",
       "      <td>$50.05</td>\n",
       "      <td>$50.54</td>\n",
       "      <td>$49.28</td>\n",
       "      <td>$49.76</td>\n",
       "      <td>27658789</td>\n",
       "      <td>-0.579421</td>\n",
       "      <td>NaN</td>\n",
       "      <td>$48.30</td>\n",
       "      <td>$49.80</td>\n",
       "      <td>3.105590</td>\n",
       "      <td>35</td>\n",
       "      <td>0.823955</td>\n",
       "    </tr>\n",
       "    <tr>\n",
       "      <th>2011-01-14</th>\n",
       "      <td>1</td>\n",
       "      <td>DD</td>\n",
       "      <td>$48.30</td>\n",
       "      <td>$49.80</td>\n",
       "      <td>$47.20</td>\n",
       "      <td>$49.80</td>\n",
       "      <td>34546875</td>\n",
       "      <td>3.105590</td>\n",
       "      <td>27658789.0</td>\n",
       "      <td>$49.53</td>\n",
       "      <td>$48.35</td>\n",
       "      <td>-2.382390</td>\n",
       "      <td>28</td>\n",
       "      <td>0.823293</td>\n",
       "    </tr>\n",
       "    <tr>\n",
       "      <th>2011-01-21</th>\n",
       "      <td>1</td>\n",
       "      <td>DD</td>\n",
       "      <td>$49.53</td>\n",
       "      <td>$50.14</td>\n",
       "      <td>$47.65</td>\n",
       "      <td>$48.35</td>\n",
       "      <td>25611091</td>\n",
       "      <td>-2.382390</td>\n",
       "      <td>34546875.0</td>\n",
       "      <td>$48.44</td>\n",
       "      <td>$50.29</td>\n",
       "      <td>3.819160</td>\n",
       "      <td>21</td>\n",
       "      <td>0.847983</td>\n",
       "    </tr>\n",
       "    <tr>\n",
       "      <th>2011-01-28</th>\n",
       "      <td>1</td>\n",
       "      <td>DD</td>\n",
       "      <td>$48.44</td>\n",
       "      <td>$50.66</td>\n",
       "      <td>$48.26</td>\n",
       "      <td>$50.29</td>\n",
       "      <td>45429653</td>\n",
       "      <td>3.819160</td>\n",
       "      <td>25611091.0</td>\n",
       "      <td>$50.15</td>\n",
       "      <td>$52.53</td>\n",
       "      <td>4.745760</td>\n",
       "      <td>14</td>\n",
       "      <td>0.815271</td>\n",
       "    </tr>\n",
       "    <tr>\n",
       "      <th>2011-02-04</th>\n",
       "      <td>1</td>\n",
       "      <td>DD</td>\n",
       "      <td>$50.15</td>\n",
       "      <td>$52.63</td>\n",
       "      <td>$50.09</td>\n",
       "      <td>$52.53</td>\n",
       "      <td>31069977</td>\n",
       "      <td>4.745760</td>\n",
       "      <td>45429653.0</td>\n",
       "      <td>$52.62</td>\n",
       "      <td>$54.58</td>\n",
       "      <td>3.724820</td>\n",
       "      <td>7</td>\n",
       "      <td>0.780506</td>\n",
       "    </tr>\n",
       "    <tr>\n",
       "      <th>2011-02-11</th>\n",
       "      <td>1</td>\n",
       "      <td>DD</td>\n",
       "      <td>$52.62</td>\n",
       "      <td>$54.75</td>\n",
       "      <td>$52.51</td>\n",
       "      <td>$54.58</td>\n",
       "      <td>37155830</td>\n",
       "      <td>3.724820</td>\n",
       "      <td>31069977.0</td>\n",
       "      <td>$54.44</td>\n",
       "      <td>$55.98</td>\n",
       "      <td>2.828800</td>\n",
       "      <td>0</td>\n",
       "      <td>0.751191</td>\n",
       "    </tr>\n",
       "    <tr>\n",
       "      <th>2011-02-18</th>\n",
       "      <td>1</td>\n",
       "      <td>DD</td>\n",
       "      <td>$54.44</td>\n",
       "      <td>$55.98</td>\n",
       "      <td>$53.80</td>\n",
       "      <td>$55.98</td>\n",
       "      <td>27705910</td>\n",
       "      <td>2.828800</td>\n",
       "      <td>37155830.0</td>\n",
       "      <td>$54.95</td>\n",
       "      <td>$54.07</td>\n",
       "      <td>-1.601460</td>\n",
       "      <td>82</td>\n",
       "      <td>0.732404</td>\n",
       "    </tr>\n",
       "    <tr>\n",
       "      <th>2011-02-25</th>\n",
       "      <td>1</td>\n",
       "      <td>DD</td>\n",
       "      <td>$54.95</td>\n",
       "      <td>$55.30</td>\n",
       "      <td>$52.36</td>\n",
       "      <td>$54.07</td>\n",
       "      <td>33190716</td>\n",
       "      <td>-1.601460</td>\n",
       "      <td>27705910.0</td>\n",
       "      <td>$54.22</td>\n",
       "      <td>$53.87</td>\n",
       "      <td>-0.645518</td>\n",
       "      <td>75</td>\n",
       "      <td>0.758276</td>\n",
       "    </tr>\n",
       "    <tr>\n",
       "      <th>2011-03-04</th>\n",
       "      <td>1</td>\n",
       "      <td>DD</td>\n",
       "      <td>$54.22</td>\n",
       "      <td>$54.95</td>\n",
       "      <td>$52.76</td>\n",
       "      <td>$53.87</td>\n",
       "      <td>32958368</td>\n",
       "      <td>-0.645518</td>\n",
       "      <td>33190716.0</td>\n",
       "      <td>$54.10</td>\n",
       "      <td>$52.90</td>\n",
       "      <td>-2.218110</td>\n",
       "      <td>68</td>\n",
       "      <td>0.761092</td>\n",
       "    </tr>\n",
       "    <tr>\n",
       "      <th>2011-03-11</th>\n",
       "      <td>1</td>\n",
       "      <td>DD</td>\n",
       "      <td>$54.10</td>\n",
       "      <td>$54.49</td>\n",
       "      <td>$51.82</td>\n",
       "      <td>$52.90</td>\n",
       "      <td>27091813</td>\n",
       "      <td>-2.218110</td>\n",
       "      <td>32958368.0</td>\n",
       "      <td>$53.18</td>\n",
       "      <td>$52.99</td>\n",
       "      <td>-0.357277</td>\n",
       "      <td>61</td>\n",
       "      <td>0.775047</td>\n",
       "    </tr>\n",
       "    <tr>\n",
       "      <th>2011-03-18</th>\n",
       "      <td>1</td>\n",
       "      <td>DD</td>\n",
       "      <td>$53.18</td>\n",
       "      <td>$53.50</td>\n",
       "      <td>$51.10</td>\n",
       "      <td>$52.99</td>\n",
       "      <td>39779608</td>\n",
       "      <td>-0.357277</td>\n",
       "      <td>27091813.0</td>\n",
       "      <td>$53.80</td>\n",
       "      <td>$54.10</td>\n",
       "      <td>0.557621</td>\n",
       "      <td>54</td>\n",
       "      <td>0.773731</td>\n",
       "    </tr>\n",
       "    <tr>\n",
       "      <th>2011-03-25</th>\n",
       "      <td>1</td>\n",
       "      <td>DD</td>\n",
       "      <td>$53.80</td>\n",
       "      <td>$54.64</td>\n",
       "      <td>$52.89</td>\n",
       "      <td>$54.10</td>\n",
       "      <td>24464568</td>\n",
       "      <td>0.557621</td>\n",
       "      <td>39779608.0</td>\n",
       "      <td>$54.11</td>\n",
       "      <td>$55.19</td>\n",
       "      <td>1.995930</td>\n",
       "      <td>47</td>\n",
       "      <td>0.757856</td>\n",
       "    </tr>\n",
       "    <tr>\n",
       "      <th>2011-01-07</th>\n",
       "      <td>1</td>\n",
       "      <td>DIS</td>\n",
       "      <td>$37.74</td>\n",
       "      <td>$40.00</td>\n",
       "      <td>$37.62</td>\n",
       "      <td>$39.45</td>\n",
       "      <td>72917621</td>\n",
       "      <td>4.531000</td>\n",
       "      <td>NaN</td>\n",
       "      <td>$39.01</td>\n",
       "      <td>$39.29</td>\n",
       "      <td>0.717765</td>\n",
       "      <td>336</td>\n",
       "      <td>1.013940</td>\n",
       "    </tr>\n",
       "    <tr>\n",
       "      <th>2011-01-14</th>\n",
       "      <td>1</td>\n",
       "      <td>DIS</td>\n",
       "      <td>$39.01</td>\n",
       "      <td>$39.81</td>\n",
       "      <td>$38.92</td>\n",
       "      <td>$39.29</td>\n",
       "      <td>31943413</td>\n",
       "      <td>0.717765</td>\n",
       "      <td>72917621.0</td>\n",
       "      <td>$39.07</td>\n",
       "      <td>$39.74</td>\n",
       "      <td>1.714870</td>\n",
       "      <td>329</td>\n",
       "      <td>1.018070</td>\n",
       "    </tr>\n",
       "    <tr>\n",
       "      <th>2011-01-21</th>\n",
       "      <td>1</td>\n",
       "      <td>DIS</td>\n",
       "      <td>$39.07</td>\n",
       "      <td>$39.94</td>\n",
       "      <td>$38.51</td>\n",
       "      <td>$39.74</td>\n",
       "      <td>36187032</td>\n",
       "      <td>1.714870</td>\n",
       "      <td>31943413.0</td>\n",
       "      <td>$39.64</td>\n",
       "      <td>$38.85</td>\n",
       "      <td>-1.992940</td>\n",
       "      <td>322</td>\n",
       "      <td>1.006540</td>\n",
       "    </tr>\n",
       "    <tr>\n",
       "      <th>2011-01-28</th>\n",
       "      <td>1</td>\n",
       "      <td>DIS</td>\n",
       "      <td>$39.64</td>\n",
       "      <td>$39.95</td>\n",
       "      <td>$38.65</td>\n",
       "      <td>$38.85</td>\n",
       "      <td>42131642</td>\n",
       "      <td>-1.992940</td>\n",
       "      <td>36187032.0</td>\n",
       "      <td>$39.04</td>\n",
       "      <td>$40.71</td>\n",
       "      <td>4.277660</td>\n",
       "      <td>315</td>\n",
       "      <td>1.029600</td>\n",
       "    </tr>\n",
       "  </tbody>\n",
       "</table>\n",
       "<p>100 rows × 14 columns</p>\n",
       "</div>"
      ],
      "text/plain": [
       "            quarter stock     open     high      low    close     volume  \\\n",
       "date                                                                       \n",
       "2011-01-07        1    AA   $15.82   $16.72   $15.78   $16.42  239655616   \n",
       "2011-01-14        1    AA   $16.71   $16.71   $15.64   $15.97  242963398   \n",
       "2011-01-21        1    AA   $16.19   $16.38   $15.60   $15.79  138428495   \n",
       "2011-01-28        1    AA   $15.87   $16.63   $15.82   $16.13  151379173   \n",
       "2011-02-04        1    AA   $16.18   $17.39   $16.18   $17.14  154387761   \n",
       "2011-02-11        1    AA   $17.33   $17.48   $16.97   $17.37  114691279   \n",
       "2011-02-18        1    AA   $17.39   $17.68   $17.28   $17.28   80023895   \n",
       "2011-02-25        1    AA   $16.98   $17.15   $15.96   $16.68  132981863   \n",
       "2011-03-04        1    AA   $16.81   $16.94   $16.13   $16.58  109493077   \n",
       "2011-03-11        1    AA   $16.58   $16.75   $15.42   $16.03  114332562   \n",
       "2011-03-18        1    AA   $15.95   $16.33   $15.43   $16.11  130374108   \n",
       "2011-03-25        1    AA   $16.38   $17.24   $16.26   $17.09   95550392   \n",
       "2011-01-07        1   AXP   $43.30   $45.60   $43.11   $44.36   45102042   \n",
       "2011-01-14        1   AXP   $44.20   $46.25   $44.01   $46.25   25913713   \n",
       "2011-01-21        1   AXP   $46.03   $46.71   $44.71   $46.00   38824728   \n",
       "2011-01-28        1   AXP   $46.05   $46.27   $43.42   $43.86   51427274   \n",
       "2011-02-04        1   AXP   $44.13   $44.23   $43.15   $43.82   39501680   \n",
       "2011-02-11        1   AXP   $43.96   $46.79   $43.88   $46.75   43746998   \n",
       "2011-02-18        1   AXP   $46.42   $46.93   $45.53   $45.53   28564910   \n",
       "2011-02-25        1   AXP   $44.94   $45.12   $43.01   $43.53   39654146   \n",
       "2011-03-04        1   AXP   $43.73   $44.68   $42.75   $43.72   38985037   \n",
       "2011-03-11        1   AXP   $43.86   $45.54   $43.53   $44.28   37613429   \n",
       "2011-03-18        1   AXP   $43.86   $44.47   $42.19   $44.17   41757526   \n",
       "2011-03-25        1   AXP   $44.75   $45.61   $44.10   $45.59   30798332   \n",
       "2011-01-07        1    BA   $66.15   $70.10   $66.00   $69.38   36258120   \n",
       "2011-01-14        1    BA   $69.42   $70.50   $68.35   $70.07   18834664   \n",
       "2011-01-21        1    BA   $70.86   $72.99   $70.23   $71.68   29594221   \n",
       "2011-01-28        1    BA   $71.52   $72.82   $69.00   $69.23   34929673   \n",
       "2011-02-04        1    BA   $69.26   $71.64   $69.12   $71.38   22770062   \n",
       "2011-02-11        1    BA   $71.43   $72.99   $71.15   $72.14   21809411   \n",
       "...             ...   ...      ...      ...      ...      ...        ...   \n",
       "2011-03-18        1  CSCO   $17.81   $17.88   $16.97   $17.14  444161658   \n",
       "2011-03-25        1  CSCO   $17.34   $17.64   $17.20   $17.28  284574143   \n",
       "2011-01-07        1   CVX   $91.66   $92.48   $90.27   $91.19   35556288   \n",
       "2011-01-14        1   CVX   $90.95   $92.85   $90.12   $92.83   28260512   \n",
       "2011-01-21        1   CVX   $92.94   $93.94   $91.58   $93.78   27752622   \n",
       "2011-01-28        1   CVX   $93.89   $94.97   $92.93   $93.37   42303108   \n",
       "2011-02-04        1   CVX   $93.85   $97.44   $93.37   $97.11   48766293   \n",
       "2011-02-11        1   CVX   $97.28   $98.23   $95.70   $96.45   38838595   \n",
       "2011-02-18        1   CVX   $95.50   $98.72   $95.50   $98.72   28037827   \n",
       "2011-02-25        1   CVX   $99.23  $103.94   $99.23  $102.10   57897831   \n",
       "2011-03-04        1   CVX  $102.28  $104.99  $102.18  $103.75   48214502   \n",
       "2011-03-11        1   CVX  $104.12  $104.77   $97.60   $99.93   43673568   \n",
       "2011-03-18        1   CVX   $99.16  $103.97   $97.98  $102.80   56186791   \n",
       "2011-03-25        1   CVX  $103.86  $107.01  $103.20  $106.78   39606692   \n",
       "2011-01-07        1    DD   $50.05   $50.54   $49.28   $49.76   27658789   \n",
       "2011-01-14        1    DD   $48.30   $49.80   $47.20   $49.80   34546875   \n",
       "2011-01-21        1    DD   $49.53   $50.14   $47.65   $48.35   25611091   \n",
       "2011-01-28        1    DD   $48.44   $50.66   $48.26   $50.29   45429653   \n",
       "2011-02-04        1    DD   $50.15   $52.63   $50.09   $52.53   31069977   \n",
       "2011-02-11        1    DD   $52.62   $54.75   $52.51   $54.58   37155830   \n",
       "2011-02-18        1    DD   $54.44   $55.98   $53.80   $55.98   27705910   \n",
       "2011-02-25        1    DD   $54.95   $55.30   $52.36   $54.07   33190716   \n",
       "2011-03-04        1    DD   $54.22   $54.95   $52.76   $53.87   32958368   \n",
       "2011-03-11        1    DD   $54.10   $54.49   $51.82   $52.90   27091813   \n",
       "2011-03-18        1    DD   $53.18   $53.50   $51.10   $52.99   39779608   \n",
       "2011-03-25        1    DD   $53.80   $54.64   $52.89   $54.10   24464568   \n",
       "2011-01-07        1   DIS   $37.74   $40.00   $37.62   $39.45   72917621   \n",
       "2011-01-14        1   DIS   $39.01   $39.81   $38.92   $39.29   31943413   \n",
       "2011-01-21        1   DIS   $39.07   $39.94   $38.51   $39.74   36187032   \n",
       "2011-01-28        1   DIS   $39.64   $39.95   $38.65   $38.85   42131642   \n",
       "\n",
       "            percent_change_price  previous_weeks_volume next_weeks_open  \\\n",
       "date                                                                      \n",
       "2011-01-07              3.792670                    NaN          $16.71   \n",
       "2011-01-14             -4.428490            239655616.0          $16.19   \n",
       "2011-01-21             -2.470660            242963398.0          $15.87   \n",
       "2011-01-28              1.638310            138428495.0          $16.18   \n",
       "2011-02-04              5.933250            151379173.0          $17.33   \n",
       "2011-02-11              0.230814            154387761.0          $17.39   \n",
       "2011-02-18             -0.632547            114691279.0          $16.98   \n",
       "2011-02-25             -1.766780             80023895.0          $16.81   \n",
       "2011-03-04             -1.368230            132981863.0          $16.58   \n",
       "2011-03-11             -3.317250            109493077.0          $15.95   \n",
       "2011-03-18              1.003130            114332562.0          $16.38   \n",
       "2011-03-25              4.334550            130374108.0          $17.13   \n",
       "2011-01-07              2.448040                    NaN          $44.20   \n",
       "2011-01-14              4.638010             45102042.0          $46.03   \n",
       "2011-01-21             -0.065175             25913713.0          $46.05   \n",
       "2011-01-28             -4.755700             38824728.0          $44.13   \n",
       "2011-02-04             -0.702470             51427274.0          $43.96   \n",
       "2011-02-11              6.346680             39501680.0          $46.42   \n",
       "2011-02-18             -1.917280             43746998.0          $44.94   \n",
       "2011-02-25             -3.137520             28564910.0          $43.73   \n",
       "2011-03-04             -0.022868             39654146.0          $43.86   \n",
       "2011-03-11              0.957592             38985037.0          $43.86   \n",
       "2011-03-18              0.706794             37613429.0          $44.75   \n",
       "2011-03-25              1.877090             41757526.0          $45.54   \n",
       "2011-01-07              4.882840                    NaN          $69.42   \n",
       "2011-01-14              0.936330             36258120.0          $70.86   \n",
       "2011-01-21              1.157210             18834664.0          $71.52   \n",
       "2011-01-28             -3.201900             29594221.0          $69.26   \n",
       "2011-02-04              3.060930             34929673.0          $71.43   \n",
       "2011-02-11              0.993980             22770062.0          $72.70   \n",
       "...                          ...                    ...             ...   \n",
       "2011-03-18             -3.761930            311209442.0          $17.34   \n",
       "2011-03-25             -0.346021            444161658.0          $17.36   \n",
       "2011-01-07             -0.512765                    NaN          $90.95   \n",
       "2011-01-14              2.067070             35556288.0          $92.94   \n",
       "2011-01-21              0.903809             28260512.0          $93.89   \n",
       "2011-01-28             -0.553840             27752622.0          $93.85   \n",
       "2011-02-04              3.473630             42303108.0          $97.28   \n",
       "2011-02-11             -0.853207             48766293.0          $95.50   \n",
       "2011-02-18              3.371730             38838595.0          $99.23   \n",
       "2011-02-25              2.892270             28037827.0         $102.28   \n",
       "2011-03-04              1.437230             57897831.0         $104.12   \n",
       "2011-03-11             -4.024200             48214502.0          $99.16   \n",
       "2011-03-18              3.670840             43673568.0         $103.86   \n",
       "2011-03-25              2.811480             56186791.0         $106.40   \n",
       "2011-01-07             -0.579421                    NaN          $48.30   \n",
       "2011-01-14              3.105590             27658789.0          $49.53   \n",
       "2011-01-21             -2.382390             34546875.0          $48.44   \n",
       "2011-01-28              3.819160             25611091.0          $50.15   \n",
       "2011-02-04              4.745760             45429653.0          $52.62   \n",
       "2011-02-11              3.724820             31069977.0          $54.44   \n",
       "2011-02-18              2.828800             37155830.0          $54.95   \n",
       "2011-02-25             -1.601460             27705910.0          $54.22   \n",
       "2011-03-04             -0.645518             33190716.0          $54.10   \n",
       "2011-03-11             -2.218110             32958368.0          $53.18   \n",
       "2011-03-18             -0.357277             27091813.0          $53.80   \n",
       "2011-03-25              0.557621             39779608.0          $54.11   \n",
       "2011-01-07              4.531000                    NaN          $39.01   \n",
       "2011-01-14              0.717765             72917621.0          $39.07   \n",
       "2011-01-21              1.714870             31943413.0          $39.64   \n",
       "2011-01-28             -1.992940             36187032.0          $39.04   \n",
       "\n",
       "           next_weeks_close  percent_change_next_weeks_price  \\\n",
       "date                                                           \n",
       "2011-01-07           $15.97                        -4.428490   \n",
       "2011-01-14           $15.79                        -2.470660   \n",
       "2011-01-21           $16.13                         1.638310   \n",
       "2011-01-28           $17.14                         5.933250   \n",
       "2011-02-04           $17.37                         0.230814   \n",
       "2011-02-11           $17.28                        -0.632547   \n",
       "2011-02-18           $16.68                        -1.766780   \n",
       "2011-02-25           $16.58                        -1.368230   \n",
       "2011-03-04           $16.03                        -3.317250   \n",
       "2011-03-11           $16.11                         1.003130   \n",
       "2011-03-18           $17.09                         4.334550   \n",
       "2011-03-25           $17.47                         1.984820   \n",
       "2011-01-07           $46.25                         4.638010   \n",
       "2011-01-14           $46.00                        -0.065175   \n",
       "2011-01-21           $43.86                        -4.755700   \n",
       "2011-01-28           $43.82                        -0.702470   \n",
       "2011-02-04           $46.75                         6.346680   \n",
       "2011-02-11           $45.53                        -1.917280   \n",
       "2011-02-18           $43.53                        -3.137520   \n",
       "2011-02-25           $43.72                        -0.022868   \n",
       "2011-03-04           $44.28                         0.957592   \n",
       "2011-03-11           $44.17                         0.706794   \n",
       "2011-03-18           $45.59                         1.877090   \n",
       "2011-03-25           $45.36                        -0.395257   \n",
       "2011-01-07           $70.07                         0.936330   \n",
       "2011-01-14           $71.68                         1.157210   \n",
       "2011-01-21           $69.23                        -3.201900   \n",
       "2011-01-28           $71.38                         3.060930   \n",
       "2011-02-04           $72.14                         0.993980   \n",
       "2011-02-11           $73.04                         0.467675   \n",
       "...                     ...                              ...   \n",
       "2011-03-18           $17.28                        -0.346021   \n",
       "2011-03-25           $17.04                        -1.843320   \n",
       "2011-01-07           $92.83                         2.067070   \n",
       "2011-01-14           $93.78                         0.903809   \n",
       "2011-01-21           $93.37                        -0.553840   \n",
       "2011-01-28           $97.11                         3.473630   \n",
       "2011-02-04           $96.45                        -0.853207   \n",
       "2011-02-11           $98.72                         3.371730   \n",
       "2011-02-18          $102.10                         2.892270   \n",
       "2011-02-25          $103.75                         1.437230   \n",
       "2011-03-04           $99.93                        -4.024200   \n",
       "2011-03-11          $102.80                         3.670840   \n",
       "2011-03-18          $106.78                         2.811480   \n",
       "2011-03-25          $108.32                         1.804510   \n",
       "2011-01-07           $49.80                         3.105590   \n",
       "2011-01-14           $48.35                        -2.382390   \n",
       "2011-01-21           $50.29                         3.819160   \n",
       "2011-01-28           $52.53                         4.745760   \n",
       "2011-02-04           $54.58                         3.724820   \n",
       "2011-02-11           $55.98                         2.828800   \n",
       "2011-02-18           $54.07                        -1.601460   \n",
       "2011-02-25           $53.87                        -0.645518   \n",
       "2011-03-04           $52.90                        -2.218110   \n",
       "2011-03-11           $52.99                        -0.357277   \n",
       "2011-03-18           $54.10                         0.557621   \n",
       "2011-03-25           $55.19                         1.995930   \n",
       "2011-01-07           $39.29                         0.717765   \n",
       "2011-01-14           $39.74                         1.714870   \n",
       "2011-01-21           $38.85                        -1.992940   \n",
       "2011-01-28           $40.71                         4.277660   \n",
       "\n",
       "            days_to_next_dividend  percent_return_next_dividend  \n",
       "date                                                             \n",
       "2011-01-07                     26                      0.182704  \n",
       "2011-01-14                     19                      0.187852  \n",
       "2011-01-21                     12                      0.189994  \n",
       "2011-01-28                      5                      0.185989  \n",
       "2011-02-04                     97                      0.175029  \n",
       "2011-02-11                     90                      0.172712  \n",
       "2011-02-18                     83                      0.173611  \n",
       "2011-02-25                     76                      0.179856  \n",
       "2011-03-04                     69                      0.180941  \n",
       "2011-03-11                     62                      0.187149  \n",
       "2011-03-18                     55                      0.186220  \n",
       "2011-03-25                     48                      0.175541  \n",
       "2011-01-07                     89                      0.405771  \n",
       "2011-01-14                     82                      0.389189  \n",
       "2011-01-21                     75                      0.391304  \n",
       "2011-01-28                     68                      0.410397  \n",
       "2011-02-04                     61                      0.410771  \n",
       "2011-02-11                     54                      0.385027  \n",
       "2011-02-18                     47                      0.395344  \n",
       "2011-02-25                     40                      0.413508  \n",
       "2011-03-04                     33                      0.411711  \n",
       "2011-03-11                     26                      0.406504  \n",
       "2011-03-18                     19                      0.407516  \n",
       "2011-03-25                     12                      0.394823  \n",
       "2011-01-07                     33                      0.605362  \n",
       "2011-01-14                     26                      0.599401  \n",
       "2011-01-21                     19                      0.585938  \n",
       "2011-01-28                     12                      0.606673  \n",
       "2011-02-04                      5                      0.588400  \n",
       "2011-02-11                     89                      0.582201  \n",
       "...                           ...                           ...  \n",
       "2011-03-18                     11                      0.350058  \n",
       "2011-03-25                      4                      0.347222  \n",
       "2011-01-07                     38                      0.789560  \n",
       "2011-01-14                     31                      0.775611  \n",
       "2011-01-21                     24                      0.767754  \n",
       "2011-01-28                     17                      0.771126  \n",
       "2011-02-04                     10                      0.741427  \n",
       "2011-02-11                      3                      0.746501  \n",
       "2011-02-18                     89                      0.739465  \n",
       "2011-02-25                     82                      0.714985  \n",
       "2011-03-04                     75                      0.703614  \n",
       "2011-03-11                     68                      0.730511  \n",
       "2011-03-18                     61                      0.710117  \n",
       "2011-03-25                     54                      0.683649  \n",
       "2011-01-07                     35                      0.823955  \n",
       "2011-01-14                     28                      0.823293  \n",
       "2011-01-21                     21                      0.847983  \n",
       "2011-01-28                     14                      0.815271  \n",
       "2011-02-04                      7                      0.780506  \n",
       "2011-02-11                      0                      0.751191  \n",
       "2011-02-18                     82                      0.732404  \n",
       "2011-02-25                     75                      0.758276  \n",
       "2011-03-04                     68                      0.761092  \n",
       "2011-03-11                     61                      0.775047  \n",
       "2011-03-18                     54                      0.773731  \n",
       "2011-03-25                     47                      0.757856  \n",
       "2011-01-07                    336                      1.013940  \n",
       "2011-01-14                    329                      1.018070  \n",
       "2011-01-21                    322                      1.006540  \n",
       "2011-01-28                    315                      1.029600  \n",
       "\n",
       "[100 rows x 14 columns]"
      ]
     },
     "execution_count": 147,
     "metadata": {},
     "output_type": "execute_result"
    }
   ],
   "source": [
    "stockdata.drop([\"percent_change_volume_over_last_wk\"],axis=1)"
   ]
  },
  {
   "cell_type": "code",
   "execution_count": 148,
   "metadata": {},
   "outputs": [],
   "source": [
    "stockdata_new = pd.DataFrame(stockdata, columns=[\"stock\",\"open\",\"high\"\n",
    ",\"low\",\"close\",\"volume\"])"
   ]
  },
  {
   "cell_type": "code",
   "execution_count": 149,
   "metadata": {},
   "outputs": [
    {
     "data": {
      "text/html": [
       "<div>\n",
       "<style scoped>\n",
       "    .dataframe tbody tr th:only-of-type {\n",
       "        vertical-align: middle;\n",
       "    }\n",
       "\n",
       "    .dataframe tbody tr th {\n",
       "        vertical-align: top;\n",
       "    }\n",
       "\n",
       "    .dataframe thead th {\n",
       "        text-align: right;\n",
       "    }\n",
       "</style>\n",
       "<table border=\"1\" class=\"dataframe\">\n",
       "  <thead>\n",
       "    <tr style=\"text-align: right;\">\n",
       "      <th></th>\n",
       "      <th>stock</th>\n",
       "      <th>open</th>\n",
       "      <th>high</th>\n",
       "      <th>low</th>\n",
       "      <th>close</th>\n",
       "      <th>volume</th>\n",
       "    </tr>\n",
       "    <tr>\n",
       "      <th>date</th>\n",
       "      <th></th>\n",
       "      <th></th>\n",
       "      <th></th>\n",
       "      <th></th>\n",
       "      <th></th>\n",
       "      <th></th>\n",
       "    </tr>\n",
       "  </thead>\n",
       "  <tbody>\n",
       "    <tr>\n",
       "      <th>2011-01-07</th>\n",
       "      <td>AA</td>\n",
       "      <td>$15.82</td>\n",
       "      <td>$16.72</td>\n",
       "      <td>$15.78</td>\n",
       "      <td>$16.42</td>\n",
       "      <td>239655616</td>\n",
       "    </tr>\n",
       "    <tr>\n",
       "      <th>2011-01-14</th>\n",
       "      <td>AA</td>\n",
       "      <td>$16.71</td>\n",
       "      <td>$16.71</td>\n",
       "      <td>$15.64</td>\n",
       "      <td>$15.97</td>\n",
       "      <td>242963398</td>\n",
       "    </tr>\n",
       "    <tr>\n",
       "      <th>2011-01-21</th>\n",
       "      <td>AA</td>\n",
       "      <td>$16.19</td>\n",
       "      <td>$16.38</td>\n",
       "      <td>$15.60</td>\n",
       "      <td>$15.79</td>\n",
       "      <td>138428495</td>\n",
       "    </tr>\n",
       "    <tr>\n",
       "      <th>2011-01-28</th>\n",
       "      <td>AA</td>\n",
       "      <td>$15.87</td>\n",
       "      <td>$16.63</td>\n",
       "      <td>$15.82</td>\n",
       "      <td>$16.13</td>\n",
       "      <td>151379173</td>\n",
       "    </tr>\n",
       "    <tr>\n",
       "      <th>2011-02-04</th>\n",
       "      <td>AA</td>\n",
       "      <td>$16.18</td>\n",
       "      <td>$17.39</td>\n",
       "      <td>$16.18</td>\n",
       "      <td>$17.14</td>\n",
       "      <td>154387761</td>\n",
       "    </tr>\n",
       "  </tbody>\n",
       "</table>\n",
       "</div>"
      ],
      "text/plain": [
       "           stock    open    high     low   close     volume\n",
       "date                                                       \n",
       "2011-01-07    AA  $15.82  $16.72  $15.78  $16.42  239655616\n",
       "2011-01-14    AA  $16.71  $16.71  $15.64  $15.97  242963398\n",
       "2011-01-21    AA  $16.19  $16.38  $15.60  $15.79  138428495\n",
       "2011-01-28    AA  $15.87  $16.63  $15.82  $16.13  151379173\n",
       "2011-02-04    AA  $16.18  $17.39  $16.18  $17.14  154387761"
      ]
     },
     "execution_count": 149,
     "metadata": {},
     "output_type": "execute_result"
    }
   ],
   "source": [
    "stockdata_new.head()"
   ]
  },
  {
   "cell_type": "code",
   "execution_count": 150,
   "metadata": {},
   "outputs": [],
   "source": [
    "stockdata[\"previous_weeks_volume\"] = 0"
   ]
  },
  {
   "cell_type": "code",
   "execution_count": 151,
   "metadata": {},
   "outputs": [
    {
     "data": {
      "text/html": [
       "<div>\n",
       "<style scoped>\n",
       "    .dataframe tbody tr th:only-of-type {\n",
       "        vertical-align: middle;\n",
       "    }\n",
       "\n",
       "    .dataframe tbody tr th {\n",
       "        vertical-align: top;\n",
       "    }\n",
       "\n",
       "    .dataframe thead th {\n",
       "        text-align: right;\n",
       "    }\n",
       "</style>\n",
       "<table border=\"1\" class=\"dataframe\">\n",
       "  <thead>\n",
       "    <tr style=\"text-align: right;\">\n",
       "      <th></th>\n",
       "      <th>quarter</th>\n",
       "      <th>stock</th>\n",
       "      <th>open</th>\n",
       "      <th>high</th>\n",
       "      <th>low</th>\n",
       "      <th>close</th>\n",
       "      <th>volume</th>\n",
       "      <th>percent_change_price</th>\n",
       "      <th>percent_change_volume_over_last_wk</th>\n",
       "      <th>previous_weeks_volume</th>\n",
       "      <th>next_weeks_open</th>\n",
       "      <th>next_weeks_close</th>\n",
       "      <th>percent_change_next_weeks_price</th>\n",
       "      <th>days_to_next_dividend</th>\n",
       "      <th>percent_return_next_dividend</th>\n",
       "    </tr>\n",
       "    <tr>\n",
       "      <th>date</th>\n",
       "      <th></th>\n",
       "      <th></th>\n",
       "      <th></th>\n",
       "      <th></th>\n",
       "      <th></th>\n",
       "      <th></th>\n",
       "      <th></th>\n",
       "      <th></th>\n",
       "      <th></th>\n",
       "      <th></th>\n",
       "      <th></th>\n",
       "      <th></th>\n",
       "      <th></th>\n",
       "      <th></th>\n",
       "      <th></th>\n",
       "    </tr>\n",
       "  </thead>\n",
       "  <tbody>\n",
       "    <tr>\n",
       "      <th>2011-01-07</th>\n",
       "      <td>1</td>\n",
       "      <td>AA</td>\n",
       "      <td>$15.82</td>\n",
       "      <td>$16.72</td>\n",
       "      <td>$15.78</td>\n",
       "      <td>$16.42</td>\n",
       "      <td>239655616</td>\n",
       "      <td>3.79267</td>\n",
       "      <td>NaN</td>\n",
       "      <td>0</td>\n",
       "      <td>$16.71</td>\n",
       "      <td>$15.97</td>\n",
       "      <td>-4.428490</td>\n",
       "      <td>26</td>\n",
       "      <td>0.182704</td>\n",
       "    </tr>\n",
       "    <tr>\n",
       "      <th>2011-01-14</th>\n",
       "      <td>1</td>\n",
       "      <td>AA</td>\n",
       "      <td>$16.71</td>\n",
       "      <td>$16.71</td>\n",
       "      <td>$15.64</td>\n",
       "      <td>$15.97</td>\n",
       "      <td>242963398</td>\n",
       "      <td>-4.42849</td>\n",
       "      <td>1.380223</td>\n",
       "      <td>0</td>\n",
       "      <td>$16.19</td>\n",
       "      <td>$15.79</td>\n",
       "      <td>-2.470660</td>\n",
       "      <td>19</td>\n",
       "      <td>0.187852</td>\n",
       "    </tr>\n",
       "    <tr>\n",
       "      <th>2011-01-21</th>\n",
       "      <td>1</td>\n",
       "      <td>AA</td>\n",
       "      <td>$16.19</td>\n",
       "      <td>$16.38</td>\n",
       "      <td>$15.60</td>\n",
       "      <td>$15.79</td>\n",
       "      <td>138428495</td>\n",
       "      <td>-2.47066</td>\n",
       "      <td>-43.024959</td>\n",
       "      <td>0</td>\n",
       "      <td>$15.87</td>\n",
       "      <td>$16.13</td>\n",
       "      <td>1.638310</td>\n",
       "      <td>12</td>\n",
       "      <td>0.189994</td>\n",
       "    </tr>\n",
       "    <tr>\n",
       "      <th>2011-01-28</th>\n",
       "      <td>1</td>\n",
       "      <td>AA</td>\n",
       "      <td>$15.87</td>\n",
       "      <td>$16.63</td>\n",
       "      <td>$15.82</td>\n",
       "      <td>$16.13</td>\n",
       "      <td>151379173</td>\n",
       "      <td>1.63831</td>\n",
       "      <td>9.355500</td>\n",
       "      <td>0</td>\n",
       "      <td>$16.18</td>\n",
       "      <td>$17.14</td>\n",
       "      <td>5.933250</td>\n",
       "      <td>5</td>\n",
       "      <td>0.185989</td>\n",
       "    </tr>\n",
       "    <tr>\n",
       "      <th>2011-02-04</th>\n",
       "      <td>1</td>\n",
       "      <td>AA</td>\n",
       "      <td>$16.18</td>\n",
       "      <td>$17.39</td>\n",
       "      <td>$16.18</td>\n",
       "      <td>$17.14</td>\n",
       "      <td>154387761</td>\n",
       "      <td>5.93325</td>\n",
       "      <td>1.987452</td>\n",
       "      <td>0</td>\n",
       "      <td>$17.33</td>\n",
       "      <td>$17.37</td>\n",
       "      <td>0.230814</td>\n",
       "      <td>97</td>\n",
       "      <td>0.175029</td>\n",
       "    </tr>\n",
       "  </tbody>\n",
       "</table>\n",
       "</div>"
      ],
      "text/plain": [
       "            quarter stock    open    high     low   close     volume  \\\n",
       "date                                                                   \n",
       "2011-01-07        1    AA  $15.82  $16.72  $15.78  $16.42  239655616   \n",
       "2011-01-14        1    AA  $16.71  $16.71  $15.64  $15.97  242963398   \n",
       "2011-01-21        1    AA  $16.19  $16.38  $15.60  $15.79  138428495   \n",
       "2011-01-28        1    AA  $15.87  $16.63  $15.82  $16.13  151379173   \n",
       "2011-02-04        1    AA  $16.18  $17.39  $16.18  $17.14  154387761   \n",
       "\n",
       "            percent_change_price  percent_change_volume_over_last_wk  \\\n",
       "date                                                                   \n",
       "2011-01-07               3.79267                                 NaN   \n",
       "2011-01-14              -4.42849                            1.380223   \n",
       "2011-01-21              -2.47066                          -43.024959   \n",
       "2011-01-28               1.63831                            9.355500   \n",
       "2011-02-04               5.93325                            1.987452   \n",
       "\n",
       "            previous_weeks_volume next_weeks_open next_weeks_close  \\\n",
       "date                                                                 \n",
       "2011-01-07                      0          $16.71           $15.97   \n",
       "2011-01-14                      0          $16.19           $15.79   \n",
       "2011-01-21                      0          $15.87           $16.13   \n",
       "2011-01-28                      0          $16.18           $17.14   \n",
       "2011-02-04                      0          $17.33           $17.37   \n",
       "\n",
       "            percent_change_next_weeks_price  days_to_next_dividend  \\\n",
       "date                                                                 \n",
       "2011-01-07                        -4.428490                     26   \n",
       "2011-01-14                        -2.470660                     19   \n",
       "2011-01-21                         1.638310                     12   \n",
       "2011-01-28                         5.933250                      5   \n",
       "2011-02-04                         0.230814                     97   \n",
       "\n",
       "            percent_return_next_dividend  \n",
       "date                                      \n",
       "2011-01-07                      0.182704  \n",
       "2011-01-14                      0.187852  \n",
       "2011-01-21                      0.189994  \n",
       "2011-01-28                      0.185989  \n",
       "2011-02-04                      0.175029  "
      ]
     },
     "execution_count": 151,
     "metadata": {},
     "output_type": "execute_result"
    }
   ],
   "source": [
    "stockdata.head()"
   ]
  },
  {
   "cell_type": "code",
   "execution_count": 152,
   "metadata": {},
   "outputs": [
    {
     "data": {
      "text/html": [
       "<div>\n",
       "<style scoped>\n",
       "    .dataframe tbody tr th:only-of-type {\n",
       "        vertical-align: middle;\n",
       "    }\n",
       "\n",
       "    .dataframe tbody tr th {\n",
       "        vertical-align: top;\n",
       "    }\n",
       "\n",
       "    .dataframe thead th {\n",
       "        text-align: right;\n",
       "    }\n",
       "</style>\n",
       "<table border=\"1\" class=\"dataframe\">\n",
       "  <thead>\n",
       "    <tr style=\"text-align: right;\">\n",
       "      <th></th>\n",
       "      <th>quarter</th>\n",
       "      <th>stock</th>\n",
       "      <th>open</th>\n",
       "      <th>high</th>\n",
       "      <th>low</th>\n",
       "      <th>close</th>\n",
       "      <th>volume</th>\n",
       "      <th>percent_change_price</th>\n",
       "      <th>percent_change_volume_over_last_wk</th>\n",
       "      <th>previous_weeks_volume</th>\n",
       "      <th>next_weeks_open</th>\n",
       "      <th>next_weeks_close</th>\n",
       "      <th>percent_change_next_weeks_price</th>\n",
       "      <th>days_to_next_dividend</th>\n",
       "      <th>percent_return_next_dividend</th>\n",
       "    </tr>\n",
       "    <tr>\n",
       "      <th>date</th>\n",
       "      <th></th>\n",
       "      <th></th>\n",
       "      <th></th>\n",
       "      <th></th>\n",
       "      <th></th>\n",
       "      <th></th>\n",
       "      <th></th>\n",
       "      <th></th>\n",
       "      <th></th>\n",
       "      <th></th>\n",
       "      <th></th>\n",
       "      <th></th>\n",
       "      <th></th>\n",
       "      <th></th>\n",
       "      <th></th>\n",
       "    </tr>\n",
       "  </thead>\n",
       "  <tbody>\n",
       "    <tr>\n",
       "      <th>2011-01-14</th>\n",
       "      <td>1</td>\n",
       "      <td>AA</td>\n",
       "      <td>$16.71</td>\n",
       "      <td>$16.71</td>\n",
       "      <td>$15.64</td>\n",
       "      <td>$15.97</td>\n",
       "      <td>242963398</td>\n",
       "      <td>-4.42849</td>\n",
       "      <td>1.380223</td>\n",
       "      <td>0</td>\n",
       "      <td>$16.19</td>\n",
       "      <td>$15.79</td>\n",
       "      <td>-2.47066</td>\n",
       "      <td>19</td>\n",
       "      <td>0.187852</td>\n",
       "    </tr>\n",
       "    <tr>\n",
       "      <th>2011-01-21</th>\n",
       "      <td>1</td>\n",
       "      <td>AA</td>\n",
       "      <td>$16.19</td>\n",
       "      <td>$16.38</td>\n",
       "      <td>$15.60</td>\n",
       "      <td>$15.79</td>\n",
       "      <td>138428495</td>\n",
       "      <td>-2.47066</td>\n",
       "      <td>-43.024959</td>\n",
       "      <td>0</td>\n",
       "      <td>$15.87</td>\n",
       "      <td>$16.13</td>\n",
       "      <td>1.63831</td>\n",
       "      <td>12</td>\n",
       "      <td>0.189994</td>\n",
       "    </tr>\n",
       "  </tbody>\n",
       "</table>\n",
       "</div>"
      ],
      "text/plain": [
       "            quarter stock    open    high     low   close     volume  \\\n",
       "date                                                                   \n",
       "2011-01-14        1    AA  $16.71  $16.71  $15.64  $15.97  242963398   \n",
       "2011-01-21        1    AA  $16.19  $16.38  $15.60  $15.79  138428495   \n",
       "\n",
       "            percent_change_price  percent_change_volume_over_last_wk  \\\n",
       "date                                                                   \n",
       "2011-01-14              -4.42849                            1.380223   \n",
       "2011-01-21              -2.47066                          -43.024959   \n",
       "\n",
       "            previous_weeks_volume next_weeks_open next_weeks_close  \\\n",
       "date                                                                 \n",
       "2011-01-14                      0          $16.19           $15.79   \n",
       "2011-01-21                      0          $15.87           $16.13   \n",
       "\n",
       "            percent_change_next_weeks_price  days_to_next_dividend  \\\n",
       "date                                                                 \n",
       "2011-01-14                         -2.47066                     19   \n",
       "2011-01-21                          1.63831                     12   \n",
       "\n",
       "            percent_return_next_dividend  \n",
       "date                                      \n",
       "2011-01-14                      0.187852  \n",
       "2011-01-21                      0.189994  "
      ]
     },
     "execution_count": 152,
     "metadata": {},
     "output_type": "execute_result"
    }
   ],
   "source": [
    "stockdata.dropna().head(2)"
   ]
  },
  {
   "cell_type": "code",
   "execution_count": 153,
   "metadata": {},
   "outputs": [
    {
     "data": {
      "text/plain": [
       "count        100\n",
       "unique        99\n",
       "top       $43.86\n",
       "freq           2\n",
       "Name: open, dtype: object"
      ]
     },
     "execution_count": 153,
     "metadata": {},
     "output_type": "execute_result"
    }
   ],
   "source": [
    "stockdata_new.open.describe()"
   ]
  },
  {
   "cell_type": "code",
   "execution_count": 161,
   "metadata": {},
   "outputs": [],
   "source": [
    "stockdata_new.open = stockdata_new.open.replace('$', '').infer_objects()"
   ]
  },
  {
   "cell_type": "code",
   "execution_count": 162,
   "metadata": {},
   "outputs": [],
   "source": [
    "stockdata_new.close = stockdata_new.close.replace('$', '').infer_objects()"
   ]
  },
  {
   "cell_type": "code",
   "execution_count": 165,
   "metadata": {},
   "outputs": [
    {
     "data": {
      "text/plain": [
       "count    100.000000\n",
       "mean      51.286800\n",
       "std       32.154889\n",
       "min       13.710000\n",
       "25%       17.705000\n",
       "50%       46.040000\n",
       "75%       72.527500\n",
       "max      106.900000\n",
       "Name: open, dtype: float64"
      ]
     },
     "execution_count": 165,
     "metadata": {},
     "output_type": "execute_result"
    }
   ],
   "source": [
    "stockdata_new.open.describe()"
   ]
  },
  {
   "cell_type": "code",
   "execution_count": 166,
   "metadata": {},
   "outputs": [],
   "source": [
    "stockdata_new['newopen'] = stockdata_new.open.apply(lambda x: 0.8 * x)"
   ]
  },
  {
   "cell_type": "code",
   "execution_count": 167,
   "metadata": {},
   "outputs": [
    {
     "data": {
      "text/plain": [
       "date\n",
       "2011-01-07    12.656\n",
       "2011-01-14    13.368\n",
       "2011-01-21    12.952\n",
       "2011-01-28    12.696\n",
       "2011-02-04    12.944\n",
       "Name: newopen, dtype: float64"
      ]
     },
     "execution_count": 167,
     "metadata": {},
     "output_type": "execute_result"
    }
   ],
   "source": [
    "stockdata_new.newopen.head(5)"
   ]
  },
  {
   "cell_type": "code",
   "execution_count": 168,
   "metadata": {},
   "outputs": [],
   "source": [
    "stockAA = stockdata_new.query('stock==\"AA\"')"
   ]
  },
  {
   "cell_type": "code",
   "execution_count": 169,
   "metadata": {},
   "outputs": [
    {
     "data": {
      "text/html": [
       "<div>\n",
       "<style scoped>\n",
       "    .dataframe tbody tr th:only-of-type {\n",
       "        vertical-align: middle;\n",
       "    }\n",
       "\n",
       "    .dataframe tbody tr th {\n",
       "        vertical-align: top;\n",
       "    }\n",
       "\n",
       "    .dataframe thead th {\n",
       "        text-align: right;\n",
       "    }\n",
       "</style>\n",
       "<table border=\"1\" class=\"dataframe\">\n",
       "  <thead>\n",
       "    <tr style=\"text-align: right;\">\n",
       "      <th></th>\n",
       "      <th>stock</th>\n",
       "      <th>open</th>\n",
       "      <th>high</th>\n",
       "      <th>low</th>\n",
       "      <th>close</th>\n",
       "      <th>volume</th>\n",
       "      <th>newopen</th>\n",
       "    </tr>\n",
       "    <tr>\n",
       "      <th>date</th>\n",
       "      <th></th>\n",
       "      <th></th>\n",
       "      <th></th>\n",
       "      <th></th>\n",
       "      <th></th>\n",
       "      <th></th>\n",
       "      <th></th>\n",
       "    </tr>\n",
       "  </thead>\n",
       "  <tbody>\n",
       "    <tr>\n",
       "      <th>2011-01-07</th>\n",
       "      <td>AA</td>\n",
       "      <td>15.82</td>\n",
       "      <td>$16.72</td>\n",
       "      <td>$15.78</td>\n",
       "      <td>$16.42</td>\n",
       "      <td>239655616</td>\n",
       "      <td>12.656</td>\n",
       "    </tr>\n",
       "    <tr>\n",
       "      <th>2011-01-14</th>\n",
       "      <td>AA</td>\n",
       "      <td>16.71</td>\n",
       "      <td>$16.71</td>\n",
       "      <td>$15.64</td>\n",
       "      <td>$15.97</td>\n",
       "      <td>242963398</td>\n",
       "      <td>13.368</td>\n",
       "    </tr>\n",
       "    <tr>\n",
       "      <th>2011-01-21</th>\n",
       "      <td>AA</td>\n",
       "      <td>16.19</td>\n",
       "      <td>$16.38</td>\n",
       "      <td>$15.60</td>\n",
       "      <td>$15.79</td>\n",
       "      <td>138428495</td>\n",
       "      <td>12.952</td>\n",
       "    </tr>\n",
       "    <tr>\n",
       "      <th>2011-01-28</th>\n",
       "      <td>AA</td>\n",
       "      <td>15.87</td>\n",
       "      <td>$16.63</td>\n",
       "      <td>$15.82</td>\n",
       "      <td>$16.13</td>\n",
       "      <td>151379173</td>\n",
       "      <td>12.696</td>\n",
       "    </tr>\n",
       "    <tr>\n",
       "      <th>2011-02-04</th>\n",
       "      <td>AA</td>\n",
       "      <td>16.18</td>\n",
       "      <td>$17.39</td>\n",
       "      <td>$16.18</td>\n",
       "      <td>$17.14</td>\n",
       "      <td>154387761</td>\n",
       "      <td>12.944</td>\n",
       "    </tr>\n",
       "  </tbody>\n",
       "</table>\n",
       "</div>"
      ],
      "text/plain": [
       "           stock   open    high     low   close     volume  newopen\n",
       "date                                                               \n",
       "2011-01-07    AA  15.82  $16.72  $15.78  $16.42  239655616   12.656\n",
       "2011-01-14    AA  16.71  $16.71  $15.64  $15.97  242963398   13.368\n",
       "2011-01-21    AA  16.19  $16.38  $15.60  $15.79  138428495   12.952\n",
       "2011-01-28    AA  15.87  $16.63  $15.82  $16.13  151379173   12.696\n",
       "2011-02-04    AA  16.18  $17.39  $16.18  $17.14  154387761   12.944"
      ]
     },
     "execution_count": 169,
     "metadata": {},
     "output_type": "execute_result"
    }
   ],
   "source": [
    "stockAA.head()"
   ]
  },
  {
   "cell_type": "code",
   "execution_count": 170,
   "metadata": {},
   "outputs": [
    {
     "data": {
      "text/html": [
       "<div>\n",
       "<style scoped>\n",
       "    .dataframe tbody tr th:only-of-type {\n",
       "        vertical-align: middle;\n",
       "    }\n",
       "\n",
       "    .dataframe tbody tr th {\n",
       "        vertical-align: top;\n",
       "    }\n",
       "\n",
       "    .dataframe thead th {\n",
       "        text-align: right;\n",
       "    }\n",
       "</style>\n",
       "<table border=\"1\" class=\"dataframe\">\n",
       "  <thead>\n",
       "    <tr style=\"text-align: right;\">\n",
       "      <th></th>\n",
       "      <th>stock</th>\n",
       "      <th>open</th>\n",
       "      <th>high</th>\n",
       "      <th>low</th>\n",
       "      <th>close</th>\n",
       "      <th>volume</th>\n",
       "      <th>newopen</th>\n",
       "    </tr>\n",
       "    <tr>\n",
       "      <th>date</th>\n",
       "      <th></th>\n",
       "      <th></th>\n",
       "      <th></th>\n",
       "      <th></th>\n",
       "      <th></th>\n",
       "      <th></th>\n",
       "      <th></th>\n",
       "    </tr>\n",
       "  </thead>\n",
       "  <tbody>\n",
       "    <tr>\n",
       "      <th>2011-01-07</th>\n",
       "      <td>CSCO</td>\n",
       "      <td>20.45</td>\n",
       "      <td>$21.00</td>\n",
       "      <td>$20.38</td>\n",
       "      <td>$20.97</td>\n",
       "      <td>303545878</td>\n",
       "      <td>16.360</td>\n",
       "    </tr>\n",
       "    <tr>\n",
       "      <th>2011-01-14</th>\n",
       "      <td>CSCO</td>\n",
       "      <td>20.94</td>\n",
       "      <td>$21.23</td>\n",
       "      <td>$20.70</td>\n",
       "      <td>$21.21</td>\n",
       "      <td>154708263</td>\n",
       "      <td>16.752</td>\n",
       "    </tr>\n",
       "    <tr>\n",
       "      <th>2011-01-21</th>\n",
       "      <td>CSCO</td>\n",
       "      <td>21.22</td>\n",
       "      <td>$21.33</td>\n",
       "      <td>$20.50</td>\n",
       "      <td>$20.72</td>\n",
       "      <td>193706863</td>\n",
       "      <td>16.976</td>\n",
       "    </tr>\n",
       "    <tr>\n",
       "      <th>2011-01-28</th>\n",
       "      <td>CSCO</td>\n",
       "      <td>20.84</td>\n",
       "      <td>$21.61</td>\n",
       "      <td>$20.73</td>\n",
       "      <td>$20.93</td>\n",
       "      <td>265687272</td>\n",
       "      <td>16.672</td>\n",
       "    </tr>\n",
       "    <tr>\n",
       "      <th>2011-02-04</th>\n",
       "      <td>CSCO</td>\n",
       "      <td>20.93</td>\n",
       "      <td>$22.15</td>\n",
       "      <td>$20.71</td>\n",
       "      <td>$22.05</td>\n",
       "      <td>236334561</td>\n",
       "      <td>16.744</td>\n",
       "    </tr>\n",
       "  </tbody>\n",
       "</table>\n",
       "</div>"
      ],
      "text/plain": [
       "           stock   open    high     low   close     volume  newopen\n",
       "date                                                               \n",
       "2011-01-07  CSCO  20.45  $21.00  $20.38  $20.97  303545878   16.360\n",
       "2011-01-14  CSCO  20.94  $21.23  $20.70  $21.21  154708263   16.752\n",
       "2011-01-21  CSCO  21.22  $21.33  $20.50  $20.72  193706863   16.976\n",
       "2011-01-28  CSCO  20.84  $21.61  $20.73  $20.93  265687272   16.672\n",
       "2011-02-04  CSCO  20.93  $22.15  $20.71  $22.05  236334561   16.744"
      ]
     },
     "execution_count": 170,
     "metadata": {},
     "output_type": "execute_result"
    }
   ],
   "source": [
    "### PLOT #######\n",
    "%matplotlib inline\n",
    "import matplotlib\n",
    "import matplotlib.pyplot as plt\n",
    "import numpy\n",
    "stockCSCO = stockdata_new.query('stock==\"CSCO\"')\n",
    "stockCSCO.head()"
   ]
  },
  {
   "cell_type": "code",
   "execution_count": 172,
   "metadata": {},
   "outputs": [
    {
     "data": {
      "image/png": "[encoded data removed]",
      "text/plain": [
       "<matplotlib.figure.Figure at 0x7f5e6f3e02b0>"
      ]
     },
     "metadata": {},
     "output_type": "display_data"
    }
   ],
   "source": [
    "from matplotlib import figure\n",
    "plt.figure()\n",
    "plt.scatter(stockdata_new.index.date,stockdata_new.volume)\n",
    "plt.xlabel('day') # added the name of the x axis\n",
    "plt.ylabel('stock close value') # add label to y-axis\n",
    "plt.title('title') # add the title to your graph\n",
    "plt.savefig(\"matplot1.png\") # savefig in local"
   ]
  },
  {
   "cell_type": "code",
   "execution_count": 175,
   "metadata": {},
   "outputs": [
    {
     "name": "stderr",
     "output_type": "stream",
     "text": [
      "/home/nghi/anaconda3/envs/nlp/lib/python3.4/site-packages/matplotlib/cbook/deprecation.py:106: MatplotlibDeprecationWarning: Adding an axes using the same arguments as a previous axes currently reuses the earlier instance.  In a future version, a new instance will always be created and returned.  Meanwhile, this warning can be suppressed, and the future behavior ensured, by passing a unique label to each axes instance.\n",
      "  warnings.warn(message, mplDeprecation, stacklevel=1)\n"
     ]
    },
    {
     "data": {
      "image/png": "[encoded data removed]",
      "text/plain": [
       "<matplotlib.figure.Figure at 0x7f5e6f081e48>"
      ]
     },
     "metadata": {},
     "output_type": "display_data"
    }
   ],
   "source": [
    "# subplot \n",
    "plt.subplot(2, 2, 1)\n",
    "plt.plot(stockAA.index.weekofyear, stockAA.open, 'r--')\n",
    "plt.subplot(2, 2, 2)\n",
    "plt.plot(stockCSCO.index.weekofyear, stockCSCO.open, 'g-*')\n",
    "plt.subplot(2, 2, 3)\n",
    "plt.plot(stockAA.index.weekofyear, stockAA.open, 'g--')\n",
    "plt.subplot(2, 2, 4)\n",
    "plt.plot(stockCSCO.index.weekofyear, stockCSCO.open, 'r-*')\n",
    "plt.subplot(2, 2, 3)\n",
    "plt.plot(x, 'g--')\n",
    "plt.subplot(2, 2, 4)\n",
    "plt.plot(x, 'r-*')\n",
    "plt.savefig(\"matplot2.png\")"
   ]
  },
  {
   "cell_type": "code",
   "execution_count": 182,
   "metadata": {},
   "outputs": [
    {
     "data": {
      "text/plain": [
       "[<matplotlib.lines.Line2D at 0x7f5e6f0394a8>]"
      ]
     },
     "execution_count": 182,
     "metadata": {},
     "output_type": "execute_result"
    },
    {
     "data": {
      "image/png": "[encoded data removed]",
      "text/plain": [
       "<matplotlib.figure.Figure at 0x7f5e6ee4e3c8>"
      ]
     },
     "metadata": {},
     "output_type": "display_data"
    },
    {
     "data": {
      "image/png": "[encoded data removed]",
      "text/plain": [
       "<matplotlib.figure.Figure at 0x7f5e6ef2bc50>"
      ]
     },
     "metadata": {},
     "output_type": "display_data"
    }
   ],
   "source": [
    "fig, axes = plt.subplots(nrows=1, ncols=2)\n",
    "for ax in axes:\n",
    "     ax.plot(x, 'r')\n",
    "     ax.set_xlabel('x')\n",
    "     ax.set_ylabel('y')\n",
    "     ax.set_title('title');\n",
    "\n",
    "fig = plt.figure()\n",
    "axes = fig.add_axes([0.1, 0.1, 0.8, 0.8]) # left, bottom, width, height = range(0, 1)\n",
    "axes.plot(x, 'r')"
   ]
  },
  {
   "cell_type": "code",
   "execution_count": 184,
   "metadata": {},
   "outputs": [
    {
     "data": {
      "image/png": "[encoded data removed]",
      "text/plain": [
       "<matplotlib.figure.Figure at 0x7f5e6f17b860>"
      ]
     },
     "metadata": {},
     "output_type": "display_data"
    }
   ],
   "source": [
    "fig = plt.figure()\n",
    "ax = fig.add_axes([0.1, 0.1, 0.8, 0.8])\n",
    "ax.plot(stockAA.index.weekofyear,stockAA.open,label=\"AA\")\n",
    "ax.plot(stockAA.index.weekofyear,stockCSCO.open,label=\"CSCO\")\n",
    "ax.set_xlabel('weekofyear')\n",
    "ax.set_ylabel('stock value')\n",
    "ax.set_title('Weekly change in stock price')\n",
    "ax.legend(loc=2); # upper left corner\n",
    "plt.savefig(\"matplot3.png\")"
   ]
  },
  {
   "cell_type": "code",
   "execution_count": 185,
   "metadata": {},
   "outputs": [],
   "source": [
    "# scatter plot \n",
    "import matplotlib.pyplot as plt\n",
    "plt.scatter(stockAA.index.weekofyear,stockAA.open)\n",
    "plt.savefig(\"matplot4.png\")\n",
    "plt.close()"
   ]
  },
  {
   "cell_type": "code",
   "execution_count": 186,
   "metadata": {},
   "outputs": [
    {
     "data": {
      "text/plain": [
       "<Container object of 12 artists>"
      ]
     },
     "execution_count": 186,
     "metadata": {},
     "output_type": "execute_result"
    },
    {
     "data": {
      "image/png": "[encoded data removed]",
      "text/plain": [
       "<matplotlib.figure.Figure at 0x7f5e6f1f4b38>"
      ]
     },
     "metadata": {},
     "output_type": "display_data"
    }
   ],
   "source": [
    "# bar plot \n",
    "n = 12\n",
    "X = np.arange(n)\n",
    "Y1 = np.random.uniform(0.5, 1.0, n)\n",
    "Y2 = np.random.uniform(0.5, 1.0, n)\n",
    "plt.bar(X, +Y1, facecolor='#9999ff', edgecolor='white')\n",
    "plt.bar(X, -Y2, facecolor='#ff9999', edgecolor='white')"
   ]
  },
  {
   "cell_type": "code",
   "execution_count": 187,
   "metadata": {},
   "outputs": [
    {
     "data": {
      "text/plain": [
       "<mpl_toolkits.mplot3d.art3d.Poly3DCollection at 0x7f5e6ed61470>"
      ]
     },
     "execution_count": 187,
     "metadata": {},
     "output_type": "execute_result"
    },
    {
     "data": {
      "image/png": "[encoded data removed]",
      "text/plain": [
       "<matplotlib.figure.Figure at 0x7f5e6f0ba668>"
      ]
     },
     "metadata": {},
     "output_type": "display_data"
    }
   ],
   "source": [
    "# 3d plot \n",
    "from mpl_toolkits.mplot3d import Axes3D\n",
    "fig = plt.figure()\n",
    "ax = Axes3D(fig)\n",
    "X = np.arange(-4, 4, 0.25)\n",
    "Y = np.arange(-4, 4, 0.25)\n",
    "X, Y = np.meshgrid(X, Y)\n",
    "R = np.sqrt(X**2+ + Y**2)\n",
    "Z = np.sin(R)\n",
    "ax.plot_surface(X, Y, Z, rstride=1, cstride=1, cmap='hot')"
   ]
  },
  {
   "cell_type": "code",
   "execution_count": null,
   "metadata": {},
   "outputs": [],
   "source": []
  }
 ],
 "metadata": {
  "kernelspec": {
   "display_name": "Python 3",
   "language": "python",
   "name": "python3"
  },
  "language_info": {
   "codemirror_mode": {
    "name": "ipython",
    "version": 3
   },
   "file_extension": ".py",
   "mimetype": "text/x-python",
   "name": "python",
   "nbconvert_exporter": "python",
   "pygments_lexer": "ipython3",
   "version": "3.4.5"
  }
 },
 "nbformat": 4,
 "nbformat_minor": 2
}
